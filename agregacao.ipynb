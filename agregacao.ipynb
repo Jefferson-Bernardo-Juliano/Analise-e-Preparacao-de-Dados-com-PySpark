{
  "nbformat": 4,
  "nbformat_minor": 0,
  "metadata": {
    "colab": {
      "provenance": []
    },
    "kernelspec": {
      "name": "python3",
      "display_name": "Python 3"
    },
    "language_info": {
      "name": "python"
    }
  },
  "cells": [
    {
      "cell_type": "code",
      "execution_count": 1,
      "metadata": {
        "colab": {
          "base_uri": "https://localhost:8080/"
        },
        "id": "gBbGY_NCO8NW",
        "outputId": "6a0631de-b000-4863-faae-7c9daa462c0c"
      },
      "outputs": [
        {
          "output_type": "stream",
          "name": "stdout",
          "text": [
            "Requirement already satisfied: pyspark in /usr/local/lib/python3.11/dist-packages (3.5.1)\n",
            "Requirement already satisfied: py4j==0.10.9.7 in /usr/local/lib/python3.11/dist-packages (from pyspark) (0.10.9.7)\n"
          ]
        }
      ],
      "source": [
        "# Instala o PySpark\n",
        "!pip install pyspark"
      ]
    },
    {
      "cell_type": "code",
      "source": [
        "# Importações\n",
        "import pyspark\n",
        "from pyspark.sql import SparkSession\n",
        "from pyspark.sql.functions import *\n",
        "from pyspark.sql.window import Window"
      ],
      "metadata": {
        "id": "FhFGFmMDPHOS"
      },
      "execution_count": 29,
      "outputs": []
    },
    {
      "cell_type": "code",
      "source": [
        "# Monta o Google Drive\n",
        "from google.colab import drive\n",
        "drive.mount('/content/drive')"
      ],
      "metadata": {
        "colab": {
          "base_uri": "https://localhost:8080/"
        },
        "id": "iKMYqp8-PHHa",
        "outputId": "dab9ce2e-5abf-4687-e451-8050321220a9"
      },
      "execution_count": 3,
      "outputs": [
        {
          "output_type": "stream",
          "name": "stdout",
          "text": [
            "Mounted at /content/drive\n"
          ]
        }
      ]
    },
    {
      "cell_type": "code",
      "source": [
        "# Cria a sessão Spark\n",
        "spark = SparkSession.builder.getOrCreate()"
      ],
      "metadata": {
        "id": "ekfnhUsoPV66"
      },
      "execution_count": 4,
      "outputs": []
    },
    {
      "cell_type": "code",
      "source": [
        "# Leitura do arquivo Parquet\n",
        "df_video = spark.read.parquet(\"/content/drive/MyDrive/Colab Notebooks/projeto/videos-comments-tratados-parquet/videos-preparados.snappy.parquet\")\n",
        "\n",
        "# Exibir as primeiras linhas do DataFrame\n",
        "df_video.show(5)"
      ],
      "metadata": {
        "colab": {
          "base_uri": "https://localhost:8080/"
        },
        "id": "d0BOuHnAQLEH",
        "outputId": "8d794b4f-4dcb-4f28-8aa8-eb2bf20a9137"
      },
      "execution_count": 7,
      "outputs": [
        {
          "output_type": "stream",
          "name": "stdout",
          "text": [
            "+--------------------+-----------+------------+-------+------+--------+--------+-----------+----+-----+-------------+--------------------+--------------------+--------------------+\n",
            "|               Title|   Video ID|Published At|Keyword| Likes|Comments|   Views|Interaction|Year|Month|Keyword Index|        Features PCA|     Features Normal|            Features|\n",
            "+--------------------+-----------+------------+-------+------+--------+--------+-----------+----+-----+-------------+--------------------+--------------------+--------------------+\n",
            "|ASMR MUKBANG DOUB...|--ZI0dSbbNU|  2020-04-18|mukbang|378858|   18860|17975269|   18372987|2020|    4|         30.0|[0.6985786560867407]|[0.02303716158264...|[378858.0,1.79752...|\n",
            "|Deadly car bomb d...|--hxd1CrOqg|  2022-08-22|   news|  6379|    4853|  808787|     820019|2022|    8|         37.0|[0.8936407990235931]|[3.87946679100418...|[6379.0,808787.0,...|\n",
            "|How Biden&#39;s s...|--ixiTypG8g|  2022-08-24|   news|  1029|    2347|   97434|     100810|2022|    8|         37.0| [0.893639694263814]|[6.26308901995973...|[1029.0,97434.0,2...|\n",
            "|Celebrating My 40...|-64r1hcxtV4|  2022-05-30|mukbang| 45628|   17264| 5283664|    5346556|2022|    5|         30.0|[0.6958642903220559]|[0.00277454843584...|[45628.0,5283664....|\n",
            "|Physics Review - ...|-6IgkG5yZfo|  2017-01-02|physics| 10959|     525|  844015|     855499|2017|    1|          7.0|[0.11987693683949...|[6.66441317075327...|[10959.0,844015.0...|\n",
            "+--------------------+-----------+------------+-------+------+--------+--------+-----------+----+-----+-------------+--------------------+--------------------+--------------------+\n",
            "only showing top 5 rows\n",
            "\n"
          ]
        }
      ]
    },
    {
      "cell_type": "code",
      "source": [
        "# Agrupar por 'Keyword' e contar a quantidade de registros\n",
        "df_keyword_count = df_video.groupBy(\"Keyword\").agg(count(\"*\").alias(\"quantidade\"))\n",
        "\n",
        "# Exibir o resultado ordenado pela quantidade\n",
        "df_keyword_count.orderBy(\"quantidade\", ascending=False).show()"
      ],
      "metadata": {
        "colab": {
          "base_uri": "https://localhost:8080/"
        },
        "id": "pgE2CfItQeL4",
        "outputId": "f5fbcb24-d0d9-42b5-bb06-814c01bf9896"
      },
      "execution_count": 9,
      "outputs": [
        {
          "output_type": "stream",
          "name": "stdout",
          "text": [
            "+----------------+----------+\n",
            "|         Keyword|quantidade|\n",
            "+----------------+----------+\n",
            "|             cnn|        50|\n",
            "|       interview|        50|\n",
            "|          crypto|        50|\n",
            "|    data science|        50|\n",
            "|        trolling|        50|\n",
            "|        tutorial|        50|\n",
            "|          marvel|        50|\n",
            "|game development|        50|\n",
            "|         mrbeast|        50|\n",
            "|         physics|        50|\n",
            "|             sat|        49|\n",
            "|         history|        49|\n",
            "|           cubes|        49|\n",
            "|        reaction|        49|\n",
            "|          sports|        49|\n",
            "|            asmr|        49|\n",
            "|computer science|        48|\n",
            "|            food|        48|\n",
            "|          how-to|        48|\n",
            "|machine learning|        48|\n",
            "+----------------+----------+\n",
            "only showing top 20 rows\n",
            "\n"
          ]
        }
      ]
    },
    {
      "cell_type": "code",
      "source": [
        "# Média da coluna \"Interaction\" para cada valor único da coluna 'Keyword'\n",
        "df_keyword_media = df_video.groupBy(\"Keyword\") \\\n",
        "    .agg(\n",
        "        count(\"*\").alias(\"quantidade\"),\n",
        "        format_number(avg(\"Interaction\"), 2).alias(\"media_interaction\")\n",
        "    )\n",
        "\n",
        "df_keyword_media.orderBy(\"quantidade\", ascending=False).show()"
      ],
      "metadata": {
        "colab": {
          "base_uri": "https://localhost:8080/"
        },
        "id": "vXI4uOOvQeDh",
        "outputId": "c7304539-f6c3-4b7c-d4ea-6768bea4851b"
      },
      "execution_count": 12,
      "outputs": [
        {
          "output_type": "stream",
          "name": "stdout",
          "text": [
            "+----------------+----------+-----------------+\n",
            "|         Keyword|quantidade|media_interaction|\n",
            "+----------------+----------+-----------------+\n",
            "|             cnn|        50|       570,650.86|\n",
            "|       interview|        50|     3,044,867.04|\n",
            "|          crypto|        50|       413,676.20|\n",
            "|    data science|        50|       562,465.28|\n",
            "|        trolling|        50|     1,484,584.88|\n",
            "|        tutorial|        50|     6,936,688.30|\n",
            "|          marvel|        50|     6,834,159.44|\n",
            "|game development|        50|       752,243.56|\n",
            "|         mrbeast|        50|    68,965,862.82|\n",
            "|         physics|        50|     3,795,529.38|\n",
            "|             sat|        49|     1,098,927.00|\n",
            "|         history|        49|    15,652,692.57|\n",
            "|           cubes|        49|    15,043,961.22|\n",
            "|        reaction|        49|       164,723.57|\n",
            "|          sports|        49|     8,695,551.63|\n",
            "|            asmr|        49|     1,779,749.69|\n",
            "|computer science|        48|     1,226,793.02|\n",
            "|            food|        48|     5,352,944.10|\n",
            "|          how-to|        48|     7,975,134.50|\n",
            "|machine learning|        48|     1,329,208.50|\n",
            "+----------------+----------+-----------------+\n",
            "only showing top 20 rows\n",
            "\n"
          ]
        }
      ]
    },
    {
      "cell_type": "code",
      "source": [
        "# Máximo da coluna \"Interaction\" para cada valor único da coluna 'Keyword'\n",
        "df_keyword_maximo = df_video.groupBy(\"Keyword\") \\\n",
        "    .agg(\n",
        "        count(\"*\").alias(\"quantidade\"),\n",
        "        max(\"Interaction\").alias(\"Rank interaction\")\n",
        "    )\n",
        "\n",
        "df_keyword_maximo = df_keyword_maximo.orderBy(\"Rank interaction\", ascending=False).show()"
      ],
      "metadata": {
        "colab": {
          "base_uri": "https://localhost:8080/"
        },
        "id": "kjgxJgOQXiiQ",
        "outputId": "ea3bce1c-ee27-4bb4-82db-863ae7874ac4"
      },
      "execution_count": 20,
      "outputs": [
        {
          "output_type": "stream",
          "name": "stdout",
          "text": [
            "+--------+----------+----------------+\n",
            "| Keyword|quantidade|Rank interaction|\n",
            "+--------+----------+----------------+\n",
            "| animals|        38|      1593623628|\n",
            "|   music|        46|       922551152|\n",
            "|     bed|        44|       532691631|\n",
            "| history|        49|       440187490|\n",
            "|   apple|        42|       429916936|\n",
            "| mrbeast|        50|       300397699|\n",
            "|  google|        45|       239385460|\n",
            "|business|        48|       210025196|\n",
            "|   cubes|        49|       170925917|\n",
            "|  sports|        49|       106924567|\n",
            "| mukbang|        45|        87433858|\n",
            "|    lofi|        40|        86445177|\n",
            "|tutorial|        50|        69616442|\n",
            "|  movies|        44|        65253870|\n",
            "|  marvel|        50|        56247330|\n",
            "|  how-to|        48|        53053975|\n",
            "|    food|        48|        48754479|\n",
            "| physics|        50|        43463298|\n",
            "|    asmr|        49|        34411125|\n",
            "|nintendo|        48|        32268486|\n",
            "+--------+----------+----------------+\n",
            "only showing top 20 rows\n",
            "\n"
          ]
        }
      ]
    },
    {
      "cell_type": "code",
      "source": [
        "# Média e a variância da coluna 'Views' para cada valor único da coluna 'Keyword'\n",
        "df_keyword_med_var = df_video.groupBy(\"Keyword\") \\\n",
        "    .agg(\n",
        "        count(\"*\").alias(\"quantidade\"),\n",
        "        format_number(avg(\"Views\"), 2).alias(\"media_views\"),\n",
        "        format_number(var_samp(\"Views\"), 2).alias(\"variancia_views\")\n",
        "    )\n",
        "df_keyword_med_var = df_keyword_med_var.orderBy(\"quantidade\", ascending=False).show()"
      ],
      "metadata": {
        "colab": {
          "base_uri": "https://localhost:8080/"
        },
        "id": "MVW09uksXyPC",
        "outputId": "8acf6549-c42e-4ef3-a553-ea2a4f0b8e0b"
      },
      "execution_count": 21,
      "outputs": [
        {
          "output_type": "stream",
          "name": "stdout",
          "text": [
            "+----------------+----------+-------------+--------------------+\n",
            "|         Keyword|quantidade|  media_views|     variancia_views|\n",
            "+----------------+----------+-------------+--------------------+\n",
            "|             cnn|        50|   554,240.38|  156,342,361,846.81|\n",
            "|       interview|        50| 2,966,111.86|18,192,209,960,34...|\n",
            "|          crypto|        50|   404,608.22|3,513,691,634,369.07|\n",
            "|    data science|        50|   544,771.98|  547,933,652,535.00|\n",
            "|        trolling|        50| 1,420,141.02|6,932,651,793,973.29|\n",
            "|        tutorial|        50| 6,761,032.02|136,962,659,686,4...|\n",
            "|          marvel|        50| 6,614,079.56|144,026,680,526,2...|\n",
            "|game development|        50|   724,688.54|1,276,998,225,613.15|\n",
            "|         mrbeast|        50|66,764,003.98|3,824,123,679,605...|\n",
            "|         physics|        50| 3,692,387.28|47,414,096,705,62...|\n",
            "|             sat|        49| 1,065,868.71|8,285,094,966,049.21|\n",
            "|         history|        49|15,353,155.53|4,253,204,661,918...|\n",
            "|           cubes|        49|14,735,344.12|851,175,657,190,3...|\n",
            "|        reaction|        49|   149,439.94|   94,551,525,626.39|\n",
            "|          sports|        49| 8,601,204.73|309,771,202,558,8...|\n",
            "|            asmr|        49| 1,741,148.04|34,972,325,861,03...|\n",
            "|computer science|        48| 1,191,958.71|2,812,198,681,651.02|\n",
            "|            food|        48| 5,252,406.25|73,263,741,281,54...|\n",
            "|          how-to|        48| 7,809,284.92|177,587,349,653,5...|\n",
            "|machine learning|        48| 1,293,040.23|6,163,769,196,158.56|\n",
            "+----------------+----------+-------------+--------------------+\n",
            "only showing top 20 rows\n",
            "\n"
          ]
        }
      ]
    },
    {
      "cell_type": "code",
      "source": [
        "# Média, o valor mínimo e o valor máximo de 'Views' para cada valor único da coluna 'Keyword', sem casas decimais\n",
        "df_keyword_views_casas_decimais = df_video.groupBy(\"Keyword\") \\\n",
        "    .agg(\n",
        "        count(\"*\").alias(\"quantidade\"),\n",
        "        round(avg(\"Views\")).alias(\"media_views\"),\n",
        "        round(min(\"Views\")).alias(\"min_views\"),\n",
        "        round(max(\"Views\")).alias(\"max_views\")\n",
        "    )\n",
        "\n",
        "df_keyword_views_casas_decimais.orderBy(\"quantidade\", ascending=False).show()"
      ],
      "metadata": {
        "colab": {
          "base_uri": "https://localhost:8080/"
        },
        "id": "4QHA1H9VYRjM",
        "outputId": "042afef9-eebd-42c6-8fce-664db8649141"
      },
      "execution_count": 22,
      "outputs": [
        {
          "output_type": "stream",
          "name": "stdout",
          "text": [
            "+----------------+----------+-----------+---------+---------+\n",
            "|         Keyword|quantidade|media_views|min_views|max_views|\n",
            "+----------------+----------+-----------+---------+---------+\n",
            "|             cnn|        50|   554240.0|    51269|  1889320|\n",
            "|       interview|        50|  2966112.0|     2587| 22529756|\n",
            "|          crypto|        50|   404608.0|     1599| 11805668|\n",
            "|    data science|        50|   544772.0|      911|  3069097|\n",
            "|        trolling|        50|  1420141.0|     5388| 14286302|\n",
            "|        tutorial|        50|  6761032.0|    19323| 68512549|\n",
            "|          marvel|        50|  6614080.0|     2813| 54583132|\n",
            "|game development|        50|   724689.0|     1352|  6478696|\n",
            "|         mrbeast|        50|6.6764004E7|   889300|285526909|\n",
            "|         physics|        50|  3692387.0|    30388| 42252029|\n",
            "|             sat|        49|  1065869.0|     7163| 18116954|\n",
            "|         history|        49|1.5353156E7|     6640|434352213|\n",
            "|           cubes|        49|1.4735344E7|    10146|168546247|\n",
            "|        reaction|        49|   149440.0|     9533|  1765945|\n",
            "|          sports|        49|  8601205.0|      867|106014469|\n",
            "|            asmr|        49|  1741148.0|     2985| 33779197|\n",
            "|computer science|        48|  1191959.0|    16115|  7004107|\n",
            "|            food|        48|  5252406.0|    47430| 48018833|\n",
            "|          how-to|        48|  7809285.0|     3311| 52061447|\n",
            "|machine learning|        48|  1293040.0|        0| 11814893|\n",
            "+----------------+----------+-----------+---------+---------+\n",
            "only showing top 20 rows\n",
            "\n"
          ]
        }
      ]
    },
    {
      "cell_type": "code",
      "source": [
        "# Mostre o primeiro e o último 'Published At' para cada valor único da coluna 'Keyword'\n",
        "df_keyword_published = df_video.groupBy(\"Keyword\") \\\n",
        "    .agg(\n",
        "        min(\"Published At\").alias(\"primeira_publicacao\"),\n",
        "        max(\"Published At\").alias(\"ultima_publicacao\")\n",
        "    )\n",
        "\n",
        "df_keyword_published.show(truncate=False)"
      ],
      "metadata": {
        "colab": {
          "base_uri": "https://localhost:8080/"
        },
        "id": "SO4-UOyrYRck",
        "outputId": "08d6a705-1e16-42b3-d7ab-d7bdb6efbeb7"
      },
      "execution_count": 24,
      "outputs": [
        {
          "output_type": "stream",
          "name": "stdout",
          "text": [
            "+----------------+-------------------+-----------------+\n",
            "|Keyword         |primeira_publicacao|ultima_publicacao|\n",
            "+----------------+-------------------+-----------------+\n",
            "|computer science|2009-08-20         |2022-08-12       |\n",
            "|lofi            |2019-12-08         |2022-08-24       |\n",
            "|finance         |2012-11-27         |2022-08-24       |\n",
            "|cnn             |2022-07-14         |2022-08-24       |\n",
            "|apple           |2016-11-02         |2022-08-24       |\n",
            "|news            |2022-08-18         |2022-08-24       |\n",
            "|mukbang         |2020-02-29         |2022-08-24       |\n",
            "|education       |2008-07-25         |2022-08-24       |\n",
            "|interview       |2016-01-05         |2022-08-24       |\n",
            "|crypto          |2022-03-11         |2022-08-24       |\n",
            "|mathchemistry   |2013-04-15         |2022-05-03       |\n",
            "|food            |2017-05-31         |2022-08-24       |\n",
            "|data science    |2018-06-23         |2022-08-24       |\n",
            "|trolling        |2020-06-14         |2022-08-24       |\n",
            "|tutorial        |2017-02-01         |2022-08-23       |\n",
            "|literature      |2010-05-18         |2022-03-01       |\n",
            "|sat             |2011-10-07         |2022-08-24       |\n",
            "|history         |2016-01-26         |2022-08-24       |\n",
            "|cubes           |2009-02-24         |2022-08-24       |\n",
            "|music           |2020-03-19         |2022-08-24       |\n",
            "+----------------+-------------------+-----------------+\n",
            "only showing top 20 rows\n",
            "\n"
          ]
        }
      ]
    },
    {
      "cell_type": "code",
      "source": [
        "# Conte todos os 'title' de forma normal e todos os únicos e verifique se há diferença\n",
        "df_video.select(\n",
        "    count(\"title\").alias(\"total_titles\"),\n",
        "    countDistinct(\"title\").alias(\"titulos_unicos\")\n",
        ").show()"
      ],
      "metadata": {
        "colab": {
          "base_uri": "https://localhost:8080/"
        },
        "id": "5aHH_wZaYu5W",
        "outputId": "f3008ca8-9788-4ba9-b62c-55fa016df3ce"
      },
      "execution_count": 25,
      "outputs": [
        {
          "output_type": "stream",
          "name": "stdout",
          "text": [
            "+------------+--------------+\n",
            "|total_titles|titulos_unicos|\n",
            "+------------+--------------+\n",
            "|        1869|          1854|\n",
            "+------------+--------------+\n",
            "\n"
          ]
        }
      ]
    },
    {
      "cell_type": "code",
      "source": [
        "# Mostre a quantidade de registros ordenados por ano em ordem ascendente\n",
        "df_por_ano = df_video.withColumn(\"Ano\", year(\"Published At\")) \\\n",
        "    .groupBy(\"Ano\") \\\n",
        "    .agg(count(\"*\").alias(\"quantidade\")) \\\n",
        "    .orderBy(\"Ano\", ascending=True)\n",
        "\n",
        "df_por_ano.show()"
      ],
      "metadata": {
        "colab": {
          "base_uri": "https://localhost:8080/"
        },
        "id": "8Wf9IvQiZPhp",
        "outputId": "6dadcad5-0195-4d0e-d745-3cd68fa15cdc"
      },
      "execution_count": 26,
      "outputs": [
        {
          "output_type": "stream",
          "name": "stdout",
          "text": [
            "+----+----------+\n",
            "| Ano|quantidade|\n",
            "+----+----------+\n",
            "|2007|         2|\n",
            "|2008|         1|\n",
            "|2009|         9|\n",
            "|2010|         6|\n",
            "|2011|         4|\n",
            "|2012|        12|\n",
            "|2013|         6|\n",
            "|2014|        10|\n",
            "|2015|        15|\n",
            "|2016|        34|\n",
            "|2017|        47|\n",
            "|2018|        57|\n",
            "|2019|        86|\n",
            "|2020|       158|\n",
            "|2021|       229|\n",
            "|2022|      1193|\n",
            "+----+----------+\n",
            "\n"
          ]
        }
      ]
    },
    {
      "cell_type": "code",
      "source": [
        "# Mostre a quantidade de registros ordenados por ano e mês em ordem ascendente\n",
        "df_por_ano_mes = df_video.withColumn(\"Ano\", year(\"Published At\")) \\\n",
        "    .withColumn(\"Mes\", month(\"Published At\")) \\\n",
        "    .groupBy(\"Ano\", \"Mes\") \\\n",
        "    .agg(count(\"*\").alias(\"quantidade\")) \\\n",
        "    .orderBy(\"Ano\", \"Mes\")\n",
        "\n",
        "df_por_ano_mes.show()"
      ],
      "metadata": {
        "colab": {
          "base_uri": "https://localhost:8080/"
        },
        "id": "D1zubyjHZgpB",
        "outputId": "3e65cee2-079b-4d01-cb3f-f3489ec30c30"
      },
      "execution_count": 27,
      "outputs": [
        {
          "output_type": "stream",
          "name": "stdout",
          "text": [
            "+----+---+----------+\n",
            "| Ano|Mes|quantidade|\n",
            "+----+---+----------+\n",
            "|2007|  7|         1|\n",
            "|2007| 12|         1|\n",
            "|2008|  7|         1|\n",
            "|2009|  2|         2|\n",
            "|2009|  6|         2|\n",
            "|2009|  7|         1|\n",
            "|2009|  8|         1|\n",
            "|2009| 10|         1|\n",
            "|2009| 12|         2|\n",
            "|2010|  3|         1|\n",
            "|2010|  5|         2|\n",
            "|2010|  6|         1|\n",
            "|2010|  9|         1|\n",
            "|2010| 10|         1|\n",
            "|2011|  2|         1|\n",
            "|2011|  5|         1|\n",
            "|2011|  9|         1|\n",
            "|2011| 10|         1|\n",
            "|2012|  1|         1|\n",
            "|2012|  2|         3|\n",
            "+----+---+----------+\n",
            "only showing top 20 rows\n",
            "\n"
          ]
        }
      ]
    },
    {
      "cell_type": "code",
      "source": [
        "# Calcule a média acumulativa de ‘Likes’ para cada ‘Keyword’ ao longo dos anos\n",
        "\n",
        "# Criar uma coluna com o ano\n",
        "df_com_ano = df_video.withColumn(\"Ano\", year(\"Published At\"))\n",
        "\n",
        "# Definir a janela de tempo por Keyword e ordem crescente do ano\n",
        "janela = Window.partitionBy(\"Keyword\").orderBy(\"Ano\") \\\n",
        "               .rowsBetween(Window.unboundedPreceding, Window.currentRow)\n",
        "\n",
        "# Calcular a média acumulativa\n",
        "df_media_acumulativa = df_com_ano.groupBy(\"Keyword\", \"Ano\") \\\n",
        "    .agg(avg(\"Likes\").alias(\"media_likes_ano\")) \\\n",
        "    .withColumn(\"media_likes_acumulada\", avg(\"media_likes_ano\").over(janela)) \\\n",
        "    .orderBy(\"Keyword\", \"Ano\")\n",
        "\n",
        "df_media_acumulativa.show()"
      ],
      "metadata": {
        "colab": {
          "base_uri": "https://localhost:8080/"
        },
        "id": "EYwqvojIZ5bz",
        "outputId": "d9f7cefe-a17c-40d5-9dce-9943ee46fd1b"
      },
      "execution_count": 30,
      "outputs": [
        {
          "output_type": "stream",
          "name": "stdout",
          "text": [
            "+-------+----+------------------+---------------------+\n",
            "|Keyword| Ano|   media_likes_ano|media_likes_acumulada|\n",
            "+-------+----+------------------+---------------------+\n",
            "|animals|2009|         1357197.0|            1357197.0|\n",
            "|animals|2010|          203367.0|             780282.0|\n",
            "|animals|2013|       1.1025176E7|    4195246.666666667|\n",
            "|animals|2014|         3381630.0|            3991842.5|\n",
            "|animals|2019|         1103713.0|            3414216.6|\n",
            "|animals|2020| 769652.1111111111|    2973455.851851852|\n",
            "|animals|2021|         112729.75|   2564780.6944444445|\n",
            "|animals|2022|30335.214285714286|    2247975.009424603|\n",
            "|  apple|2016|         4144389.0|            4144389.0|\n",
            "|  apple|2021|           38261.0|            2091325.0|\n",
            "|  apple|2022|           19416.6|   1400688.8666666665|\n",
            "|   asmr|2020|          148120.0|             148120.0|\n",
            "|   asmr|2021| 363124.3333333333|   255622.16666666666|\n",
            "|   asmr|2022| 13171.31111111111|   174805.21481481483|\n",
            "|    bed|2007|          317160.5|             317160.5|\n",
            "|    bed|2009| 887882.3333333334|    602521.4166666667|\n",
            "|    bed|2010|          144517.0|    449853.2777777778|\n",
            "|    bed|2011|          766414.0|    528993.4583333334|\n",
            "|    bed|2017|          355138.4|   494222.44666666666|\n",
            "|    bed|2018|         475246.25|    491059.7472222222|\n",
            "+-------+----+------------------+---------------------+\n",
            "only showing top 20 rows\n",
            "\n"
          ]
        }
      ]
    }
  ]
}