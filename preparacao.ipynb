{
  "nbformat": 4,
  "nbformat_minor": 0,
  "metadata": {
    "colab": {
      "provenance": []
    },
    "kernelspec": {
      "name": "python3",
      "display_name": "Python 3"
    },
    "language_info": {
      "name": "python"
    }
  },
  "cells": [
    {
      "cell_type": "code",
      "execution_count": 40,
      "metadata": {
        "colab": {
          "base_uri": "https://localhost:8080/"
        },
        "id": "FppekHrmU-sk",
        "outputId": "309611dd-bce3-4dd7-9e4a-c9b4dbf94ea7"
      },
      "outputs": [
        {
          "output_type": "stream",
          "name": "stdout",
          "text": [
            "Requirement already satisfied: pyspark in /usr/local/lib/python3.11/dist-packages (3.5.1)\n",
            "Requirement already satisfied: py4j==0.10.9.7 in /usr/local/lib/python3.11/dist-packages (from pyspark) (0.10.9.7)\n"
          ]
        }
      ],
      "source": [
        "# Instalação do PySpark\n",
        "!pip install pyspark"
      ]
    },
    {
      "cell_type": "code",
      "source": [
        "# Importações necessárias\n",
        "from pyspark.sql import SparkSession\n",
        "from pyspark.sql.functions import month, year, col\n",
        "from pyspark.ml.feature import StringIndexer, VectorAssembler, MinMaxScaler, PCA, Normalizer\n",
        "from pyspark.ml.regression import LinearRegression\n",
        "from pyspark.ml.evaluation import RegressionEvaluator"
      ],
      "metadata": {
        "id": "ox03snPSVErI"
      },
      "execution_count": 41,
      "outputs": []
    },
    {
      "cell_type": "code",
      "source": [
        "# Criar a sessão Spark\n",
        "spark = SparkSession.builder.getOrCreate()"
      ],
      "metadata": {
        "id": "mYd0_YIgX6F5"
      },
      "execution_count": 42,
      "outputs": []
    },
    {
      "cell_type": "code",
      "source": [
        "# Montar o Google Drive\n",
        "from google.colab import drive\n",
        "drive.mount('/content/drive')"
      ],
      "metadata": {
        "colab": {
          "base_uri": "https://localhost:8080/"
        },
        "id": "UqLkgXZQVEXI",
        "outputId": "d5805353-fed8-45d7-8c83-6b338784c91e"
      },
      "execution_count": 44,
      "outputs": [
        {
          "output_type": "stream",
          "name": "stdout",
          "text": [
            "Drive already mounted at /content/drive; to attempt to forcibly remount, call drive.mount(\"/content/drive\", force_remount=True).\n"
          ]
        }
      ]
    },
    {
      "cell_type": "code",
      "source": [
        "# ⬛ Ler o arquivo Parquet\n",
        "df_video = spark.read.parquet(\"/content/drive/MyDrive/Colab Notebooks/projeto/videos-comments-tratados-parquet/videos-comments-tratados.snappy.parquet\")"
      ],
      "metadata": {
        "id": "KtHXSnucVEFg"
      },
      "execution_count": 45,
      "outputs": []
    },
    {
      "cell_type": "code",
      "source": [
        "# Adicionar coluna 'Month' a partir da coluna \"Published At\"\n",
        "df_video = df_video.withColumn(\"Month\", month(\"Published At\"))"
      ],
      "metadata": {
        "id": "Jak5sgfHY4_d"
      },
      "execution_count": 46,
      "outputs": []
    },
    {
      "cell_type": "code",
      "source": [
        "# Criação do indexador para a coluna 'keyword'\n",
        "indexer = StringIndexer(inputCol=\"Keyword\", outputCol=\"Keyword Index\")\n",
        "df_video = indexer.fit(df_video).transform(df_video)\n",
        "df_video = df_video.withColumn(\"Keyword Index\", col(\"Keyword Index\").cast(\"int\"))\n",
        "\n",
        "# Visualiza o resultado\n",
        "df_video.select(\"Keyword\", \"Keyword Index\").show()"
      ],
      "metadata": {
        "colab": {
          "base_uri": "https://localhost:8080/"
        },
        "id": "FToRpFY7aDLw",
        "outputId": "2a2711a0-39b8-4144-b624-33c993d99181"
      },
      "execution_count": 47,
      "outputs": [
        {
          "output_type": "stream",
          "name": "stdout",
          "text": [
            "+-------+-------------+\n",
            "|Keyword|Keyword Index|\n",
            "+-------+-------------+\n",
            "|   tech|           17|\n",
            "|   tech|           17|\n",
            "|   tech|           17|\n",
            "|   tech|           17|\n",
            "|   tech|           17|\n",
            "|   tech|           17|\n",
            "|   tech|           17|\n",
            "|   tech|           17|\n",
            "|   tech|           17|\n",
            "|   tech|           17|\n",
            "|   tech|           17|\n",
            "|   tech|           17|\n",
            "|   tech|           17|\n",
            "|   tech|           17|\n",
            "|   tech|           17|\n",
            "|   tech|           17|\n",
            "|   tech|           17|\n",
            "|   tech|           17|\n",
            "|   tech|           17|\n",
            "|   tech|           17|\n",
            "+-------+-------------+\n",
            "only showing top 20 rows\n",
            "\n"
          ]
        }
      ]
    },
    {
      "cell_type": "code",
      "source": [
        "# Garantir que todas as colunas estejam no tipo numérico\n",
        "df_video = df_video.withColumn(\"Likes\", col(\"Likes\").cast(\"double\"))\n",
        "df_video = df_video.withColumn(\"Views\", col(\"Views\").cast(\"double\"))\n",
        "df_video = df_video.withColumn(\"Year\", col(\"Year\").cast(\"int\"))\n",
        "df_video = df_video.withColumn(\"Month\", col(\"Month\").cast(\"int\"))\n",
        "df_video = df_video.withColumn(\"Keyword Index\", col(\"Keyword Index\").cast(\"int\"))\n",
        "\n",
        "# Criar o vetor de features\n",
        "assembler = VectorAssembler(\n",
        "    inputCols=[\"Likes\", \"Views\", \"Year\", \"Month\", \"Keyword Index\"],\n",
        "    outputCol=\"Features\"\n",
        ")\n",
        "\n",
        "# Aplicar transformação no DataFrame\n",
        "df_video = assembler.transform(df_video)\n",
        "\n",
        "# Visualizar as colunas finais\n",
        "df_video.select(\"Likes\", \"Views\", \"Year\", \"Month\", \"Keyword Index\", \"Features\").show(truncate=False)"
      ],
      "metadata": {
        "colab": {
          "base_uri": "https://localhost:8080/"
        },
        "id": "ddBGEaeUc1Cq",
        "outputId": "8eb0b9e3-af5e-4e5e-8e19-b5b895c538c6"
      },
      "execution_count": 48,
      "outputs": [
        {
          "output_type": "stream",
          "name": "stdout",
          "text": [
            "+-------+---------+----+-----+-------------+-----------------------------------+\n",
            "|Likes  |Views    |Year|Month|Keyword Index|Features                           |\n",
            "+-------+---------+----+-----+-------------+-----------------------------------+\n",
            "|3407.0 |135612.0 |2022|8    |17           |[3407.0,135612.0,2022.0,8.0,17.0]  |\n",
            "|3407.0 |135612.0 |2022|8    |17           |[3407.0,135612.0,2022.0,8.0,17.0]  |\n",
            "|3407.0 |135612.0 |2022|8    |17           |[3407.0,135612.0,2022.0,8.0,17.0]  |\n",
            "|3407.0 |135612.0 |2022|8    |17           |[3407.0,135612.0,2022.0,8.0,17.0]  |\n",
            "|3407.0 |135612.0 |2022|8    |17           |[3407.0,135612.0,2022.0,8.0,17.0]  |\n",
            "|3407.0 |135612.0 |2022|8    |17           |[3407.0,135612.0,2022.0,8.0,17.0]  |\n",
            "|3407.0 |135612.0 |2022|8    |17           |[3407.0,135612.0,2022.0,8.0,17.0]  |\n",
            "|3407.0 |135612.0 |2022|8    |17           |[3407.0,135612.0,2022.0,8.0,17.0]  |\n",
            "|3407.0 |135612.0 |2022|8    |17           |[3407.0,135612.0,2022.0,8.0,17.0]  |\n",
            "|3407.0 |135612.0 |2022|8    |17           |[3407.0,135612.0,2022.0,8.0,17.0]  |\n",
            "|76779.0|1758063.0|2022|8    |17           |[76779.0,1758063.0,2022.0,8.0,17.0]|\n",
            "|76779.0|1758063.0|2022|8    |17           |[76779.0,1758063.0,2022.0,8.0,17.0]|\n",
            "|76779.0|1758063.0|2022|8    |17           |[76779.0,1758063.0,2022.0,8.0,17.0]|\n",
            "|76779.0|1758063.0|2022|8    |17           |[76779.0,1758063.0,2022.0,8.0,17.0]|\n",
            "|76779.0|1758063.0|2022|8    |17           |[76779.0,1758063.0,2022.0,8.0,17.0]|\n",
            "|76779.0|1758063.0|2022|8    |17           |[76779.0,1758063.0,2022.0,8.0,17.0]|\n",
            "|76779.0|1758063.0|2022|8    |17           |[76779.0,1758063.0,2022.0,8.0,17.0]|\n",
            "|76779.0|1758063.0|2022|8    |17           |[76779.0,1758063.0,2022.0,8.0,17.0]|\n",
            "|76779.0|1758063.0|2022|8    |17           |[76779.0,1758063.0,2022.0,8.0,17.0]|\n",
            "|76779.0|1758063.0|2022|8    |17           |[76779.0,1758063.0,2022.0,8.0,17.0]|\n",
            "+-------+---------+----+-----+-------------+-----------------------------------+\n",
            "only showing top 20 rows\n",
            "\n"
          ]
        }
      ]
    },
    {
      "cell_type": "code",
      "source": [
        "# 1. Remover linhas com valores nulos nas colunas\n",
        "colunas_features = [\"Likes\", \"Views\", \"Year\", \"Month\", \"Keyword Index\", \"Features\"]\n",
        "df_video = df_video.dropna(subset=colunas_features)\n",
        "\n",
        "# 2. Criar o normalizador\n",
        "normalizer = Normalizer(inputCol=\"Features\", outputCol=\"Features Normal\", p=2.0)\n",
        "\n",
        "# 3. Aplicar a normalização\n",
        "df_video = normalizer.transform(df_video)\n",
        "\n",
        "# 4. Visualizar os resultados\n",
        "df_video.select(\"Features\", \"Features Normal\").show(truncate=False)"
      ],
      "metadata": {
        "colab": {
          "base_uri": "https://localhost:8080/"
        },
        "id": "rk_ob8_kc1AB",
        "outputId": "4100ae88-4e78-4452-9b5a-915105f856be"
      },
      "execution_count": 49,
      "outputs": [
        {
          "output_type": "stream",
          "name": "stdout",
          "text": [
            "+-----------------------------------+--------------------------------------------------------------------------------------------------------+\n",
            "|Features                           |Features Normal                                                                                         |\n",
            "+-----------------------------------+--------------------------------------------------------------------------------------------------------+\n",
            "|[3407.0,135612.0,2022.0,8.0,17.0]  |[0.02511243093431334,0.9995735203592899,0.014903826049070024,5.896667081728991E-5,1.2530417548674107E-4]|\n",
            "|[3407.0,135612.0,2022.0,8.0,17.0]  |[0.02511243093431334,0.9995735203592899,0.014903826049070024,5.896667081728991E-5,1.2530417548674107E-4]|\n",
            "|[3407.0,135612.0,2022.0,8.0,17.0]  |[0.02511243093431334,0.9995735203592899,0.014903826049070024,5.896667081728991E-5,1.2530417548674107E-4]|\n",
            "|[3407.0,135612.0,2022.0,8.0,17.0]  |[0.02511243093431334,0.9995735203592899,0.014903826049070024,5.896667081728991E-5,1.2530417548674107E-4]|\n",
            "|[3407.0,135612.0,2022.0,8.0,17.0]  |[0.02511243093431334,0.9995735203592899,0.014903826049070024,5.896667081728991E-5,1.2530417548674107E-4]|\n",
            "|[3407.0,135612.0,2022.0,8.0,17.0]  |[0.02511243093431334,0.9995735203592899,0.014903826049070024,5.896667081728991E-5,1.2530417548674107E-4]|\n",
            "|[3407.0,135612.0,2022.0,8.0,17.0]  |[0.02511243093431334,0.9995735203592899,0.014903826049070024,5.896667081728991E-5,1.2530417548674107E-4]|\n",
            "|[3407.0,135612.0,2022.0,8.0,17.0]  |[0.02511243093431334,0.9995735203592899,0.014903826049070024,5.896667081728991E-5,1.2530417548674107E-4]|\n",
            "|[3407.0,135612.0,2022.0,8.0,17.0]  |[0.02511243093431334,0.9995735203592899,0.014903826049070024,5.896667081728991E-5,1.2530417548674107E-4]|\n",
            "|[3407.0,135612.0,2022.0,8.0,17.0]  |[0.02511243093431334,0.9995735203592899,0.014903826049070024,5.896667081728991E-5,1.2530417548674107E-4]|\n",
            "|[76779.0,1758063.0,2022.0,8.0,17.0]|[0.0436308790636419,0.999047058951842,0.0011490334266750534,4.546126317210894E-6,9.66051842407315E-6]   |\n",
            "|[76779.0,1758063.0,2022.0,8.0,17.0]|[0.0436308790636419,0.999047058951842,0.0011490334266750534,4.546126317210894E-6,9.66051842407315E-6]   |\n",
            "|[76779.0,1758063.0,2022.0,8.0,17.0]|[0.0436308790636419,0.999047058951842,0.0011490334266750534,4.546126317210894E-6,9.66051842407315E-6]   |\n",
            "|[76779.0,1758063.0,2022.0,8.0,17.0]|[0.0436308790636419,0.999047058951842,0.0011490334266750534,4.546126317210894E-6,9.66051842407315E-6]   |\n",
            "|[76779.0,1758063.0,2022.0,8.0,17.0]|[0.0436308790636419,0.999047058951842,0.0011490334266750534,4.546126317210894E-6,9.66051842407315E-6]   |\n",
            "|[76779.0,1758063.0,2022.0,8.0,17.0]|[0.0436308790636419,0.999047058951842,0.0011490334266750534,4.546126317210894E-6,9.66051842407315E-6]   |\n",
            "|[76779.0,1758063.0,2022.0,8.0,17.0]|[0.0436308790636419,0.999047058951842,0.0011490334266750534,4.546126317210894E-6,9.66051842407315E-6]   |\n",
            "|[76779.0,1758063.0,2022.0,8.0,17.0]|[0.0436308790636419,0.999047058951842,0.0011490334266750534,4.546126317210894E-6,9.66051842407315E-6]   |\n",
            "|[76779.0,1758063.0,2022.0,8.0,17.0]|[0.0436308790636419,0.999047058951842,0.0011490334266750534,4.546126317210894E-6,9.66051842407315E-6]   |\n",
            "|[76779.0,1758063.0,2022.0,8.0,17.0]|[0.0436308790636419,0.999047058951842,0.0011490334266750534,4.546126317210894E-6,9.66051842407315E-6]   |\n",
            "+-----------------------------------+--------------------------------------------------------------------------------------------------------+\n",
            "only showing top 20 rows\n",
            "\n"
          ]
        }
      ]
    },
    {
      "cell_type": "code",
      "source": [
        "# 1. Remover possíveis nulos na coluna 'Features'\n",
        "df_video = df_video.dropna(subset=[\"Features\"])\n",
        "\n",
        "# 2. Aplicar PCA para reduzir de 5 para 1 dimensão\n",
        "pca = PCA(k=1, inputCol=\"Features\", outputCol=\"Features PCA\")\n",
        "\n",
        "# 3. Ajustar e transformar os dados\n",
        "pca_model = pca.fit(df_video)\n",
        "df_video = pca_model.transform(df_video)\n",
        "\n",
        "# 4. Visualizar o resultado\n",
        "df_video.select(\"Features\", \"Features PCA\").show(truncate=False)"
      ],
      "metadata": {
        "colab": {
          "base_uri": "https://localhost:8080/"
        },
        "id": "0de7nw13c08S",
        "outputId": "c668af9c-1182-4c0d-8032-aca1887c9903"
      },
      "execution_count": 50,
      "outputs": [
        {
          "output_type": "stream",
          "name": "stdout",
          "text": [
            "+-----------------------------------+---------------------+\n",
            "|Features                           |Features PCA         |\n",
            "+-----------------------------------+---------------------+\n",
            "|[3407.0,135612.0,2022.0,8.0,17.0]  |[-135636.63188203107]|\n",
            "|[3407.0,135612.0,2022.0,8.0,17.0]  |[-135636.63188203107]|\n",
            "|[3407.0,135612.0,2022.0,8.0,17.0]  |[-135636.63188203107]|\n",
            "|[3407.0,135612.0,2022.0,8.0,17.0]  |[-135636.63188203107]|\n",
            "|[3407.0,135612.0,2022.0,8.0,17.0]  |[-135636.63188203107]|\n",
            "|[3407.0,135612.0,2022.0,8.0,17.0]  |[-135636.63188203107]|\n",
            "|[3407.0,135612.0,2022.0,8.0,17.0]  |[-135636.63188203107]|\n",
            "|[3407.0,135612.0,2022.0,8.0,17.0]  |[-135636.63188203107]|\n",
            "|[3407.0,135612.0,2022.0,8.0,17.0]  |[-135636.63188203107]|\n",
            "|[3407.0,135612.0,2022.0,8.0,17.0]  |[-135636.63188203107]|\n",
            "|[76779.0,1758063.0,2022.0,8.0,17.0]|[-1758667.8498040342]|\n",
            "|[76779.0,1758063.0,2022.0,8.0,17.0]|[-1758667.8498040342]|\n",
            "|[76779.0,1758063.0,2022.0,8.0,17.0]|[-1758667.8498040342]|\n",
            "|[76779.0,1758063.0,2022.0,8.0,17.0]|[-1758667.8498040342]|\n",
            "|[76779.0,1758063.0,2022.0,8.0,17.0]|[-1758667.8498040342]|\n",
            "|[76779.0,1758063.0,2022.0,8.0,17.0]|[-1758667.8498040342]|\n",
            "|[76779.0,1758063.0,2022.0,8.0,17.0]|[-1758667.8498040342]|\n",
            "|[76779.0,1758063.0,2022.0,8.0,17.0]|[-1758667.8498040342]|\n",
            "|[76779.0,1758063.0,2022.0,8.0,17.0]|[-1758667.8498040342]|\n",
            "|[76779.0,1758063.0,2022.0,8.0,17.0]|[-1758667.8498040342]|\n",
            "+-----------------------------------+---------------------+\n",
            "only showing top 20 rows\n",
            "\n"
          ]
        }
      ]
    },
    {
      "cell_type": "code",
      "source": [
        "# Dividir o DataFrame: 80% treino, 20% teste\n",
        "df_treino, df_teste = df_video.randomSplit([0.8, 0.2], seed=42)\n",
        "\n",
        "# Verificar as quantidades\n",
        "print(\"Total:\", df_video.count())\n",
        "print(\"Treino:\", df_treino.count())\n",
        "print(\"Teste:\", df_teste.count())"
      ],
      "metadata": {
        "colab": {
          "base_uri": "https://localhost:8080/"
        },
        "id": "w3OGZExmc0zK",
        "outputId": "d490c5e5-a077-4a1c-823b-6397cfed5b1e"
      },
      "execution_count": 51,
      "outputs": [
        {
          "output_type": "stream",
          "name": "stdout",
          "text": [
            "Total: 18409\n",
            "Treino: 14789\n",
            "Teste: 3620\n"
          ]
        }
      ]
    },
    {
      "cell_type": "code",
      "source": [
        "# 1. Garantir que 'Comments' esteja no tipo numérico\n",
        "df_treino = df_treino.withColumn(\"Comments\", col(\"Comments\").cast(\"double\"))\n",
        "df_teste = df_teste.withColumn(\"Comments\", col(\"Comments\").cast(\"double\"))\n",
        "\n",
        "# 2. Criar o modelo de regressão linear\n",
        "lr = LinearRegression(featuresCol=\"Features Normal\", labelCol=\"Comments\", predictionCol=\"Prediction\")\n",
        "\n",
        "# 3. Treinar o modelo\n",
        "modelo_lr = lr.fit(df_treino)\n",
        "\n",
        "# 4. Aplicar o modelo nos dados de teste\n",
        "previsoes = modelo_lr.transform(df_teste)\n",
        "\n",
        "# 5. Avaliar o modelo\n",
        "avaliador = RegressionEvaluator(labelCol=\"Comments\", predictionCol=\"Prediction\")\n",
        "\n",
        "rmse = avaliador.setMetricName(\"rmse\").evaluate(previsoes)\n",
        "mae = avaliador.setMetricName(\"mae\").evaluate(previsoes)\n",
        "r2 = avaliador.setMetricName(\"r2\").evaluate(previsoes)\n",
        "\n",
        "# 6. Exibir as métricas\n",
        "print(f\"RMSE (Erro Quadrático Médio): {rmse:.2f}\")\n",
        "print(f\"MAE (Erro Absoluto Médio): {mae:.2f}\")\n",
        "print(f\"R² (Coeficiente de Determinação): {r2:.2f}\")"
      ],
      "metadata": {
        "colab": {
          "base_uri": "https://localhost:8080/"
        },
        "id": "B0aEmWGxeVin",
        "outputId": "4b05b156-ad12-4d61-b19d-e574f473ed9b"
      },
      "execution_count": 52,
      "outputs": [
        {
          "output_type": "stream",
          "name": "stdout",
          "text": [
            "RMSE (Erro Quadrático Médio): 43345.23\n",
            "MAE (Erro Absoluto Médio): 11982.36\n",
            "R² (Coeficiente de Determinação): 0.01\n"
          ]
        }
      ]
    },
    {
      "cell_type": "code",
      "source": [
        "df_video.write.mode(\"overwrite\").parquet(\"videos-preparados-parquet\")"
      ],
      "metadata": {
        "id": "_qS7k0lue_0x"
      },
      "execution_count": 53,
      "outputs": []
    },
    {
      "cell_type": "code",
      "source": [
        "spark.stop()"
      ],
      "metadata": {
        "id": "up6vtPVCfJoB"
      },
      "execution_count": 56,
      "outputs": []
    }
  ]
}