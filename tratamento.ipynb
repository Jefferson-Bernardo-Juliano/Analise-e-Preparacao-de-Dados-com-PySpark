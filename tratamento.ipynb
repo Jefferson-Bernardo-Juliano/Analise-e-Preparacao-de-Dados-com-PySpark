{
  "nbformat": 4,
  "nbformat_minor": 0,
  "metadata": {
    "colab": {
      "provenance": []
    },
    "kernelspec": {
      "name": "python3",
      "display_name": "Python 3"
    },
    "language_info": {
      "name": "python"
    }
  },
  "cells": [
    {
      "cell_type": "code",
      "execution_count": 1,
      "metadata": {
        "colab": {
          "base_uri": "https://localhost:8080/"
        },
        "id": "04F8XvRDT8cH",
        "outputId": "67b3dd0e-3b73-4ef9-c98a-34b25e844242"
      },
      "outputs": [
        {
          "output_type": "stream",
          "name": "stdout",
          "text": [
            "Requirement already satisfied: pyspark in /usr/local/lib/python3.11/dist-packages (3.5.1)\n",
            "Requirement already satisfied: py4j==0.10.9.7 in /usr/local/lib/python3.11/dist-packages (from pyspark) (0.10.9.7)\n"
          ]
        }
      ],
      "source": [
        "# Instalar o PySpark\n",
        "!pip install pyspark"
      ]
    },
    {
      "cell_type": "code",
      "source": [
        "# Importações\n",
        "import pyspark\n",
        "import pandas as pd\n",
        "from pyspark.sql import SparkSession\n",
        "from pyspark.sql.functions import col, count, when, regexp_extract, to_date, year"
      ],
      "metadata": {
        "id": "OZ-FuMWyUmCZ"
      },
      "execution_count": 26,
      "outputs": []
    },
    {
      "cell_type": "code",
      "source": [
        "# Montar o Google Drive\n",
        "from google.colab import drive\n",
        "drive.mount('/content/drive')"
      ],
      "metadata": {
        "colab": {
          "base_uri": "https://localhost:8080/"
        },
        "id": "bmQk8-uyUqY5",
        "outputId": "625d0964-7e38-405d-8b63-37d9eccb5b1b"
      },
      "execution_count": 3,
      "outputs": [
        {
          "output_type": "stream",
          "name": "stdout",
          "text": [
            "Mounted at /content/drive\n"
          ]
        }
      ]
    },
    {
      "cell_type": "code",
      "source": [
        "# Criação da SparkSession\n",
        "spark = SparkSession.builder.getOrCreate()"
      ],
      "metadata": {
        "id": "rqqsjyoNVUKc"
      },
      "execution_count": 4,
      "outputs": []
    },
    {
      "cell_type": "code",
      "source": [
        "# Leitura do arquivo CSV\n",
        "df_video = spark.read.csv(\"drive/MyDrive/Colab Notebooks/projeto/videos-stats.csv\", header=True, inferSchema=True)\n",
        "\n",
        "df_video.show(5)  # Mostra as 5 primeiras linhas\n",
        "df_video.printSchema()  # Mostra o esquema inferido das colunas"
      ],
      "metadata": {
        "colab": {
          "base_uri": "https://localhost:8080/"
        },
        "id": "NqMhWRrjVUEb",
        "outputId": "7e23ec0d-8362-4d20-f1c7-3a05fef9955d"
      },
      "execution_count": 10,
      "outputs": [
        {
          "output_type": "stream",
          "name": "stdout",
          "text": [
            "+---+--------------------+-----------+------------+-------+-------+--------+---------+\n",
            "|_c0|               Title|   Video ID|Published At|Keyword|  Likes|Comments|    Views|\n",
            "+---+--------------------+-----------+------------+-------+-------+--------+---------+\n",
            "|  0|Apple Pay Is Kill...|wAZZ-UWGVHI|  2022-08-23|   tech| 3407.0|   672.0| 135612.0|\n",
            "|  1|The most EXPENSIV...|b3x28s61q3c|  2022-08-24|   tech|76779.0|  4306.0|1758063.0|\n",
            "|  2|My New House Gami...|4mgePWWCAmA|  2022-08-23|   tech|63825.0|  3338.0|1564007.0|\n",
            "|  3|Petrol Vs Liquid ...|kXiYSI7H2b0|  2022-08-23|   tech|71566.0|  1426.0| 922918.0|\n",
            "|  4|Best Back to Scho...|ErMwWXQxHp0|  2022-08-08|   tech|96513.0|  5155.0|1855644.0|\n",
            "+---+--------------------+-----------+------------+-------+-------+--------+---------+\n",
            "only showing top 5 rows\n",
            "\n",
            "root\n",
            " |-- _c0: integer (nullable = true)\n",
            " |-- Title: string (nullable = true)\n",
            " |-- Video ID: string (nullable = true)\n",
            " |-- Published At: date (nullable = true)\n",
            " |-- Keyword: string (nullable = true)\n",
            " |-- Likes: double (nullable = true)\n",
            " |-- Comments: double (nullable = true)\n",
            " |-- Views: double (nullable = true)\n",
            "\n"
          ]
        }
      ]
    },
    {
      "cell_type": "code",
      "source": [
        "# Altere os valores nulos dos campos 'Likes', 'Comments' e 'Views' para o valor 0\n",
        "videos_stats_categ_nulos = videos_stats.na.fill({'Likes': 0, 'Comments': 0, 'Views': 0})\n",
        "\n",
        "videos_stats_categ_nulos.show()"
      ],
      "metadata": {
        "colab": {
          "base_uri": "https://localhost:8080/"
        },
        "id": "3d01NGidVT_7",
        "outputId": "f3628326-6587-47cb-e8f5-421d7c6113e6"
      },
      "execution_count": 9,
      "outputs": [
        {
          "output_type": "stream",
          "name": "stdout",
          "text": [
            "+---+--------------------+-----------+------------+-------+--------+--------+-----------+\n",
            "|_c0|               Title|   Video ID|Published At|Keyword|   Likes|Comments|      Views|\n",
            "+---+--------------------+-----------+------------+-------+--------+--------+-----------+\n",
            "|  0|Apple Pay Is Kill...|wAZZ-UWGVHI|  2022-08-23|   tech|  3407.0|   672.0|   135612.0|\n",
            "|  1|The most EXPENSIV...|b3x28s61q3c|  2022-08-24|   tech| 76779.0|  4306.0|  1758063.0|\n",
            "|  2|My New House Gami...|4mgePWWCAmA|  2022-08-23|   tech| 63825.0|  3338.0|  1564007.0|\n",
            "|  3|Petrol Vs Liquid ...|kXiYSI7H2b0|  2022-08-23|   tech| 71566.0|  1426.0|   922918.0|\n",
            "|  4|Best Back to Scho...|ErMwWXQxHp0|  2022-08-08|   tech| 96513.0|  5155.0|  1855644.0|\n",
            "|  5|Brewmaster Answer...|18fwz9Itbvo|  2021-11-05|   tech| 33570.0|  1643.0|   943119.0|\n",
            "|  6|Tech Monopolies: ...|jXf04bhcjbg|  2022-06-13|   tech|135047.0|  9367.0|  5937790.0|\n",
            "|  7|I bought the STRA...|2TqOmtTAMRY|  2022-08-07|   tech|216935.0| 12605.0|  4782514.0|\n",
            "|  8|15 Emerging Techn...|wLlL46pYcg4|  2021-12-08|   tech| 45565.0|  2882.0|  7001236.0|\n",
            "|  9|Toxicologist Answ...|R7qsau3X6Ks|  2022-07-14|   tech| 24252.0|  1068.0|   667767.0|\n",
            "| 10|Dope Tech: The Mo...|MEiq0oCUb_8|  2022-08-15|   tech|118001.0|  4123.0|  2359142.0|\n",
            "| 11|Cool Tech Under $...|pT_9hntWj34|  2022-08-06|   tech| 20999.0|  3091.0|   413179.0|\n",
            "| 12|Cool Back to Scho...|cj4lxmHQV0o|  2022-08-13|   tech| 15322.0|   547.0|   389114.0|\n",
            "| 13|Best Tech/EDC Gif...|d-BdIo8_wpA|  2021-12-15|   tech| 17866.0|   157.0|   444953.0|\n",
            "| 14|My Massive Tech U...|eFhhW6fsAbQ|  2022-07-09|   tech| 13217.0|   442.0|   371563.0|\n",
            "| 15|Why Millennials A...|N88OE2ZCHBM|  2021-06-04|   tech| 26890.0|  4999.0|  1633059.0|\n",
            "| 16|10 Coolest Gadget...|PKATJiyz0iI|  2021-08-13|   tech|  9562.0|   199.0|   760249.0|\n",
            "| 17|17 Coolest Gadget...|qiMnSaZWf3M|  2022-07-21|   tech| 11743.0|   143.0|  1086568.0|\n",
            "| 18|Almost EVERYONE i...|4AnyhHl3_tE|  2022-08-14|   tech|146978.0| 11105.0|  3186890.0|\n",
            "| 19|I bought the THIN...|nmY2kgWYwyQ|  2022-03-25|   tech|363771.0| 13609.0|1.1422924E7|\n",
            "+---+--------------------+-----------+------------+-------+--------+--------+-----------+\n",
            "only showing top 20 rows\n",
            "\n"
          ]
        }
      ]
    },
    {
      "cell_type": "code",
      "source": [
        "# Leitura do arquivo CSV\n",
        "df_comentario = spark.read.csv(\"drive/MyDrive/Colab Notebooks/projeto/comments.csv\", header=True, inferSchema=True)\n",
        "\n",
        "df_comentario.show(5)  # Mostra as 5 primeiras linhas\n",
        "df_comentario.printSchema()  # Mostra o esquema inferido das colunas"
      ],
      "metadata": {
        "colab": {
          "base_uri": "https://localhost:8080/"
        },
        "id": "SsMyuftKVT4r",
        "outputId": "79f4d97a-bae6-47ef-e0a4-264042be9ade"
      },
      "execution_count": 11,
      "outputs": [
        {
          "output_type": "stream",
          "name": "stdout",
          "text": [
            "+---+-----------+--------------------+-----+---------+\n",
            "|_c0|   Video ID|             Comment|Likes|Sentiment|\n",
            "+---+-----------+--------------------+-----+---------+\n",
            "|  0|wAZZ-UWGVHI|Let's not forget ...| 95.0|      1.0|\n",
            "|  1|wAZZ-UWGVHI|Here in NZ 50% of...| 19.0|      0.0|\n",
            "|  2|wAZZ-UWGVHI|I will forever ac...|161.0|      2.0|\n",
            "|  3|wAZZ-UWGVHI|Whenever I go to ...|  8.0|      0.0|\n",
            "|  4|wAZZ-UWGVHI|Apple Pay is so c...| 34.0|      2.0|\n",
            "+---+-----------+--------------------+-----+---------+\n",
            "only showing top 5 rows\n",
            "\n",
            "root\n",
            " |-- _c0: string (nullable = true)\n",
            " |-- Video ID: string (nullable = true)\n",
            " |-- Comment: string (nullable = true)\n",
            " |-- Likes: string (nullable = true)\n",
            " |-- Sentiment: string (nullable = true)\n",
            "\n"
          ]
        }
      ]
    },
    {
      "cell_type": "code",
      "source": [
        "# Contagem de registros no DataFrame videos e comentarios\n",
        "print('Total de registros videos: ', df_video.count())\n",
        "print('Total de registros videos: ', df_comentario.count())"
      ],
      "metadata": {
        "colab": {
          "base_uri": "https://localhost:8080/"
        },
        "id": "0iVH_ZpDXp3r",
        "outputId": "929b918a-36ce-4552-a291-896c923cb545"
      },
      "execution_count": 12,
      "outputs": [
        {
          "output_type": "stream",
          "name": "stdout",
          "text": [
            "Total de registros videos:  1881\n",
            "Total de registros videos:  30036\n"
          ]
        }
      ]
    },
    {
      "cell_type": "code",
      "source": [
        "# Remover registros com valores nulos videos e comentarios\n",
        "videos_remocao_nulos = df_video.na.drop(subset=['Video ID'])\n",
        "print('Total de registros após limpeza de valores nulos: ', df_video.count())\n",
        "\n",
        "comentario_remocao_nulos = df_comentario.na.drop(subset=['Video ID'])\n",
        "print('Total de registros após limpeza de valores nulos: ', df_comentario.count())"
      ],
      "metadata": {
        "colab": {
          "base_uri": "https://localhost:8080/"
        },
        "id": "WIHMIcORXpxr",
        "outputId": "c9b5c9ba-e011-4178-c829-134aba8d13fe"
      },
      "execution_count": 14,
      "outputs": [
        {
          "output_type": "stream",
          "name": "stdout",
          "text": [
            "Total de registros após limpeza de valores nulos:  1881\n",
            "Total de registros após limpeza de valores nulos:  30036\n"
          ]
        }
      ]
    },
    {
      "cell_type": "code",
      "source": [
        "# Remover duplicados videos\n",
        "videos_unicos = df_video.dropDuplicates(subset=['Video ID'])\n",
        "print('Total de registros únicos: ', df_video.count())"
      ],
      "metadata": {
        "colab": {
          "base_uri": "https://localhost:8080/"
        },
        "id": "uFaO9v4wXprD",
        "outputId": "574ce255-152e-41c8-f45f-a149524b02db"
      },
      "execution_count": 16,
      "outputs": [
        {
          "output_type": "stream",
          "name": "stdout",
          "text": [
            "Total de registros únicos:  1881\n"
          ]
        }
      ]
    },
    {
      "cell_type": "code",
      "source": [
        "# Conversão de colunas no DataFrame de video\n",
        "registros_tratados_video_df = df_video \\\n",
        "    .withColumn(\"Likes\", col(\"Likes\").cast(\"int\")) \\\n",
        "    .withColumn(\"Comments\", col(\"Comments\").cast(\"int\")) \\\n",
        "    .withColumn(\"Views\", col(\"Views\").cast(\"int\"))\n",
        "\n",
        "# Exibir os dados transformados\n",
        "registros_tratados_video_df.show()\n",
        "\n",
        "# Exibir o schema do DataFrame transformado\n",
        "registros_tratados_video_df.printSchema()"
      ],
      "metadata": {
        "colab": {
          "base_uri": "https://localhost:8080/"
        },
        "id": "VS1S3fyYXph7",
        "outputId": "3d3c74f8-25d2-4d00-81e6-bb144f359e94"
      },
      "execution_count": 17,
      "outputs": [
        {
          "output_type": "stream",
          "name": "stdout",
          "text": [
            "+---+--------------------+-----------+------------+-------+------+--------+--------+\n",
            "|_c0|               Title|   Video ID|Published At|Keyword| Likes|Comments|   Views|\n",
            "+---+--------------------+-----------+------------+-------+------+--------+--------+\n",
            "|  0|Apple Pay Is Kill...|wAZZ-UWGVHI|  2022-08-23|   tech|  3407|     672|  135612|\n",
            "|  1|The most EXPENSIV...|b3x28s61q3c|  2022-08-24|   tech| 76779|    4306| 1758063|\n",
            "|  2|My New House Gami...|4mgePWWCAmA|  2022-08-23|   tech| 63825|    3338| 1564007|\n",
            "|  3|Petrol Vs Liquid ...|kXiYSI7H2b0|  2022-08-23|   tech| 71566|    1426|  922918|\n",
            "|  4|Best Back to Scho...|ErMwWXQxHp0|  2022-08-08|   tech| 96513|    5155| 1855644|\n",
            "|  5|Brewmaster Answer...|18fwz9Itbvo|  2021-11-05|   tech| 33570|    1643|  943119|\n",
            "|  6|Tech Monopolies: ...|jXf04bhcjbg|  2022-06-13|   tech|135047|    9367| 5937790|\n",
            "|  7|I bought the STRA...|2TqOmtTAMRY|  2022-08-07|   tech|216935|   12605| 4782514|\n",
            "|  8|15 Emerging Techn...|wLlL46pYcg4|  2021-12-08|   tech| 45565|    2882| 7001236|\n",
            "|  9|Toxicologist Answ...|R7qsau3X6Ks|  2022-07-14|   tech| 24252|    1068|  667767|\n",
            "| 10|Dope Tech: The Mo...|MEiq0oCUb_8|  2022-08-15|   tech|118001|    4123| 2359142|\n",
            "| 11|Cool Tech Under $...|pT_9hntWj34|  2022-08-06|   tech| 20999|    3091|  413179|\n",
            "| 12|Cool Back to Scho...|cj4lxmHQV0o|  2022-08-13|   tech| 15322|     547|  389114|\n",
            "| 13|Best Tech/EDC Gif...|d-BdIo8_wpA|  2021-12-15|   tech| 17866|     157|  444953|\n",
            "| 14|My Massive Tech U...|eFhhW6fsAbQ|  2022-07-09|   tech| 13217|     442|  371563|\n",
            "| 15|Why Millennials A...|N88OE2ZCHBM|  2021-06-04|   tech| 26890|    4999| 1633059|\n",
            "| 16|10 Coolest Gadget...|PKATJiyz0iI|  2021-08-13|   tech|  9562|     199|  760249|\n",
            "| 17|17 Coolest Gadget...|qiMnSaZWf3M|  2022-07-21|   tech| 11743|     143| 1086568|\n",
            "| 18|Almost EVERYONE i...|4AnyhHl3_tE|  2022-08-14|   tech|146978|   11105| 3186890|\n",
            "| 19|I bought the THIN...|nmY2kgWYwyQ|  2022-03-25|   tech|363771|   13609|11422924|\n",
            "+---+--------------------+-----------+------------+-------+------+--------+--------+\n",
            "only showing top 20 rows\n",
            "\n",
            "root\n",
            " |-- _c0: integer (nullable = true)\n",
            " |-- Title: string (nullable = true)\n",
            " |-- Video ID: string (nullable = true)\n",
            " |-- Published At: date (nullable = true)\n",
            " |-- Keyword: string (nullable = true)\n",
            " |-- Likes: integer (nullable = true)\n",
            " |-- Comments: integer (nullable = true)\n",
            " |-- Views: integer (nullable = true)\n",
            "\n"
          ]
        }
      ]
    },
    {
      "cell_type": "code",
      "source": [
        "# Conversão de colunas no DataFrame de comentario\n",
        "registros_tratados_comentario_df = df_comentario \\\n",
        "    .withColumn(\"Likes\", col(\"Likes\").cast(\"int\")) \\\n",
        "    .withColumn(\"Sentiment\", col(\"Sentiment\").cast(\"int\")) \\\n",
        "    .withColumnRenamed(\"Likes\", \"Likes Comment\")\n",
        "\n",
        "# Exibir os dados transformados\n",
        "registros_tratados_comentario_df.show()\n",
        "\n",
        "# Exibir o schema do DataFrame transformado\n",
        "registros_tratados_comentario_df.printSchema()"
      ],
      "metadata": {
        "colab": {
          "base_uri": "https://localhost:8080/"
        },
        "id": "G36BGh9ma4xH",
        "outputId": "bd43f0de-2ef0-4a52-ac5c-e8b9d94e4c7b"
      },
      "execution_count": 19,
      "outputs": [
        {
          "output_type": "stream",
          "name": "stdout",
          "text": [
            "+--------------+-----------+--------------------+-------------+---------+\n",
            "|           _c0|   Video ID|             Comment|Likes Comment|Sentiment|\n",
            "+--------------+-----------+--------------------+-------------+---------+\n",
            "|             0|wAZZ-UWGVHI|Let's not forget ...|           95|        1|\n",
            "|             1|wAZZ-UWGVHI|Here in NZ 50% of...|           19|        0|\n",
            "|             2|wAZZ-UWGVHI|I will forever ac...|          161|        2|\n",
            "|             3|wAZZ-UWGVHI|Whenever I go to ...|            8|        0|\n",
            "|             4|wAZZ-UWGVHI|Apple Pay is so c...|           34|        2|\n",
            "|             5|wAZZ-UWGVHI|We’ve been houndi...|            8|        1|\n",
            "|             6|wAZZ-UWGVHI|We only got Apple...|           29|        2|\n",
            "|             7|wAZZ-UWGVHI|For now, I need b...|            7|        1|\n",
            "|             8|wAZZ-UWGVHI|In the United Sta...|            2|        2|\n",
            "|             9|wAZZ-UWGVHI|In Cambodia, we h...|           28|        1|\n",
            "|            10|b3x28s61q3c|Wow, you really w...|         1344|        2|\n",
            "|            11|b3x28s61q3c|The lab is the mo...|          198|        2|\n",
            "|            12|b3x28s61q3c|Linus, I'm an eng...|          365|        2|\n",
            "|            13|b3x28s61q3c|There used to be ...|          211|        2|\n",
            "|            14|b3x28s61q3c|Holy crap. I was ...|          821|        0|\n",
            "|            15|b3x28s61q3c|I love the direct...|          150|        2|\n",
            "|            16|b3x28s61q3c|I am more excited...|           49|        2|\n",
            "|            17|b3x28s61q3c|I adore the worki...|           19|        2|\n",
            "|            18|b3x28s61q3c|LMGs growth is ho...|         NULL|     NULL|\n",
            "|More technical|   in depth| engineering orie...|           17|        2|\n",
            "+--------------+-----------+--------------------+-------------+---------+\n",
            "only showing top 20 rows\n",
            "\n",
            "root\n",
            " |-- _c0: string (nullable = true)\n",
            " |-- Video ID: string (nullable = true)\n",
            " |-- Comment: string (nullable = true)\n",
            " |-- Likes Comment: integer (nullable = true)\n",
            " |-- Sentiment: integer (nullable = true)\n",
            "\n"
          ]
        }
      ]
    },
    {
      "cell_type": "code",
      "source": [
        "# Criação de colunas no DataFrame de video\n",
        "criacao_tratados_video_df = df_video \\\n",
        "    .withColumn(\"Interaction\", col(\"Likes\") + col(\"Comments\") + col(\"Views\"))\n",
        "\n",
        "# Exibir os dados transformados\n",
        "criacao_tratados_video_df.show()\n",
        "\n",
        "# Exibir o schema do DataFrame transformado\n",
        "criacao_tratados_video_df.printSchema()"
      ],
      "metadata": {
        "colab": {
          "base_uri": "https://localhost:8080/"
        },
        "id": "XYyazbrGbn1w",
        "outputId": "b52bd68a-baa1-436b-88cb-e186351fd6b3"
      },
      "execution_count": 21,
      "outputs": [
        {
          "output_type": "stream",
          "name": "stdout",
          "text": [
            "+---+--------------------+-----------+------------+-------+--------+--------+-----------+-----------+\n",
            "|_c0|               Title|   Video ID|Published At|Keyword|   Likes|Comments|      Views|Interaction|\n",
            "+---+--------------------+-----------+------------+-------+--------+--------+-----------+-----------+\n",
            "|  0|Apple Pay Is Kill...|wAZZ-UWGVHI|  2022-08-23|   tech|  3407.0|   672.0|   135612.0|   139691.0|\n",
            "|  1|The most EXPENSIV...|b3x28s61q3c|  2022-08-24|   tech| 76779.0|  4306.0|  1758063.0|  1839148.0|\n",
            "|  2|My New House Gami...|4mgePWWCAmA|  2022-08-23|   tech| 63825.0|  3338.0|  1564007.0|  1631170.0|\n",
            "|  3|Petrol Vs Liquid ...|kXiYSI7H2b0|  2022-08-23|   tech| 71566.0|  1426.0|   922918.0|   995910.0|\n",
            "|  4|Best Back to Scho...|ErMwWXQxHp0|  2022-08-08|   tech| 96513.0|  5155.0|  1855644.0|  1957312.0|\n",
            "|  5|Brewmaster Answer...|18fwz9Itbvo|  2021-11-05|   tech| 33570.0|  1643.0|   943119.0|   978332.0|\n",
            "|  6|Tech Monopolies: ...|jXf04bhcjbg|  2022-06-13|   tech|135047.0|  9367.0|  5937790.0|  6082204.0|\n",
            "|  7|I bought the STRA...|2TqOmtTAMRY|  2022-08-07|   tech|216935.0| 12605.0|  4782514.0|  5012054.0|\n",
            "|  8|15 Emerging Techn...|wLlL46pYcg4|  2021-12-08|   tech| 45565.0|  2882.0|  7001236.0|  7049683.0|\n",
            "|  9|Toxicologist Answ...|R7qsau3X6Ks|  2022-07-14|   tech| 24252.0|  1068.0|   667767.0|   693087.0|\n",
            "| 10|Dope Tech: The Mo...|MEiq0oCUb_8|  2022-08-15|   tech|118001.0|  4123.0|  2359142.0|  2481266.0|\n",
            "| 11|Cool Tech Under $...|pT_9hntWj34|  2022-08-06|   tech| 20999.0|  3091.0|   413179.0|   437269.0|\n",
            "| 12|Cool Back to Scho...|cj4lxmHQV0o|  2022-08-13|   tech| 15322.0|   547.0|   389114.0|   404983.0|\n",
            "| 13|Best Tech/EDC Gif...|d-BdIo8_wpA|  2021-12-15|   tech| 17866.0|   157.0|   444953.0|   462976.0|\n",
            "| 14|My Massive Tech U...|eFhhW6fsAbQ|  2022-07-09|   tech| 13217.0|   442.0|   371563.0|   385222.0|\n",
            "| 15|Why Millennials A...|N88OE2ZCHBM|  2021-06-04|   tech| 26890.0|  4999.0|  1633059.0|  1664948.0|\n",
            "| 16|10 Coolest Gadget...|PKATJiyz0iI|  2021-08-13|   tech|  9562.0|   199.0|   760249.0|   770010.0|\n",
            "| 17|17 Coolest Gadget...|qiMnSaZWf3M|  2022-07-21|   tech| 11743.0|   143.0|  1086568.0|  1098454.0|\n",
            "| 18|Almost EVERYONE i...|4AnyhHl3_tE|  2022-08-14|   tech|146978.0| 11105.0|  3186890.0|  3344973.0|\n",
            "| 19|I bought the THIN...|nmY2kgWYwyQ|  2022-03-25|   tech|363771.0| 13609.0|1.1422924E7|1.1800304E7|\n",
            "+---+--------------------+-----------+------------+-------+--------+--------+-----------+-----------+\n",
            "only showing top 20 rows\n",
            "\n",
            "root\n",
            " |-- _c0: integer (nullable = true)\n",
            " |-- Title: string (nullable = true)\n",
            " |-- Video ID: string (nullable = true)\n",
            " |-- Published At: date (nullable = true)\n",
            " |-- Keyword: string (nullable = true)\n",
            " |-- Likes: double (nullable = true)\n",
            " |-- Comments: double (nullable = true)\n",
            " |-- Views: double (nullable = true)\n",
            " |-- Interaction: double (nullable = true)\n",
            "\n"
          ]
        }
      ]
    },
    {
      "cell_type": "code",
      "source": [
        "# Converter a coluna 'Published At' para o tipo date\n",
        "df_video = df_video.withColumn(\"Published At\", to_date(col(\"Published At\")))\n",
        "\n",
        "# Verificar o resultado\n",
        "df_video.select(\"Published At\").show(5)\n",
        "df_video.printSchema()"
      ],
      "metadata": {
        "colab": {
          "base_uri": "https://localhost:8080/"
        },
        "id": "YDLy11cKbnzp",
        "outputId": "2a0b3f81-a268-4520-cf6e-db9a3fb59a21"
      },
      "execution_count": 24,
      "outputs": [
        {
          "output_type": "stream",
          "name": "stdout",
          "text": [
            "+------------+\n",
            "|Published At|\n",
            "+------------+\n",
            "|  2022-08-23|\n",
            "|  2022-08-24|\n",
            "|  2022-08-23|\n",
            "|  2022-08-23|\n",
            "|  2022-08-08|\n",
            "+------------+\n",
            "only showing top 5 rows\n",
            "\n",
            "root\n",
            " |-- _c0: integer (nullable = true)\n",
            " |-- Title: string (nullable = true)\n",
            " |-- Video ID: string (nullable = true)\n",
            " |-- Published At: date (nullable = true)\n",
            " |-- Keyword: string (nullable = true)\n",
            " |-- Likes: double (nullable = true)\n",
            " |-- Comments: double (nullable = true)\n",
            " |-- Views: double (nullable = true)\n",
            "\n"
          ]
        }
      ]
    },
    {
      "cell_type": "code",
      "source": [
        "# Criar a coluna 'Year' extraindo o ano de 'Published At'\n",
        "df_video = df_video.withColumn(\"Year\", year(col(\"Published At\")))\n",
        "\n",
        "# Visualizar as colunas para conferir o resultado\n",
        "df_video.select(\"Published At\", \"Year\").show(5)"
      ],
      "metadata": {
        "colab": {
          "base_uri": "https://localhost:8080/"
        },
        "id": "BqMcGBQBbnxI",
        "outputId": "9731f62a-da8b-47e5-c089-a972b9c20c7b"
      },
      "execution_count": 27,
      "outputs": [
        {
          "output_type": "stream",
          "name": "stdout",
          "text": [
            "+------------+----+\n",
            "|Published At|Year|\n",
            "+------------+----+\n",
            "|  2022-08-23|2022|\n",
            "|  2022-08-24|2022|\n",
            "|  2022-08-23|2022|\n",
            "|  2022-08-23|2022|\n",
            "|  2022-08-08|2022|\n",
            "+------------+----+\n",
            "only showing top 5 rows\n",
            "\n"
          ]
        }
      ]
    },
    {
      "cell_type": "code",
      "source": [
        "# Realizar o join entre df_video e df_comentario usando o campo 'Video ID'\n",
        "df_join_video_comments = df_video.join(df_comentario, on=\"Video ID\", how=\"inner\")\n",
        "\n",
        "# Visualizar algumas colunas para verificar o resultado\n",
        "df_join_video_comments.show(5, truncate=False)"
      ],
      "metadata": {
        "colab": {
          "base_uri": "https://localhost:8080/"
        },
        "id": "eAjgZcIkbnuh",
        "outputId": "d8db395f-4dbe-465f-d83a-9e5575f3c5a8"
      },
      "execution_count": 31,
      "outputs": [
        {
          "output_type": "stream",
          "name": "stdout",
          "text": [
            "+-----------+---+--------------------------------------------------------------------------------------------------+------------+-------+------+--------+--------+----+---+---------------------------------------------------------------------------------------------------------------------------------------------------------------------------------------------------------------------------------------------------------------------------------------------------------------------------------------------------------------------------------------------------------------------------------------------------------------------------+-----+---------+\n",
            "|Video ID   |_c0|Title                                                                                             |Published At|Keyword|Likes |Comments|Views   |Year|_c0|Comment                                                                                                                                                                                                                                                                                                                                                                                                                                                                    |Likes|Sentiment|\n",
            "+-----------+---+--------------------------------------------------------------------------------------------------+------------+-------+------+--------+--------+----+---+---------------------------------------------------------------------------------------------------------------------------------------------------------------------------------------------------------------------------------------------------------------------------------------------------------------------------------------------------------------------------------------------------------------------------------------------------------------------------+-----+---------+\n",
            "|wAZZ-UWGVHI|0  |Apple Pay Is Killing the Physical Wallet After Only Eight Years | Tech News Briefing Podcast | WSJ|2022-08-23  |tech   |3407.0|672.0   |135612.0|2022|0  |Let's not forget that Apple Pay in 2014 required a brand new iPhone in order to use it.  A significant portion of Apple's user base wasn't able to use it even if they wanted to.  As each successive iPhone incorporated the technology and older iPhones were replaced the number of people who could use the technology increased.                                                                                                                                      |95.0 |1.0      |\n",
            "|wAZZ-UWGVHI|0  |Apple Pay Is Killing the Physical Wallet After Only Eight Years | Tech News Briefing Podcast | WSJ|2022-08-23  |tech   |3407.0|672.0   |135612.0|2022|1  |Here in NZ 50% of retailers don’t even have contactless credit card machines like pay-wave which support Apple Pay. They don’t like the high fees that come with these.                                                                                                                                                                                                                                                                                                    |19.0 |0.0      |\n",
            "|wAZZ-UWGVHI|0  |Apple Pay Is Killing the Physical Wallet After Only Eight Years | Tech News Briefing Podcast | WSJ|2022-08-23  |tech   |3407.0|672.0   |135612.0|2022|2  |I will forever acknowledge this channel with the help of your lessons and ideas explanations, Now It's quite helpful while you'll just sit at your comfort and monitor your account Growth.                                                                                                                                                                                                                                                                                |161.0|2.0      |\n",
            "|wAZZ-UWGVHI|0  |Apple Pay Is Killing the Physical Wallet After Only Eight Years | Tech News Briefing Podcast | WSJ|2022-08-23  |tech   |3407.0|672.0   |135612.0|2022|3  |Whenever I go to a place that doesn’t take Apple Pay (doesn’t happen too often), it’s such a drag. Between ‘contactless Covid’ habits and my getting the Apple Card, I’ve gotten so used to Apple Pay that I get seriously annoyed when a store doesn’t take it. It feels like a shock, it’s crazy how quickly it took over my shopping routine! I’ve officially been brainwashed by Apple because now it feels so inconvenient to even carry a physical card in my pocket.|8.0  |0.0      |\n",
            "|wAZZ-UWGVHI|0  |Apple Pay Is Killing the Physical Wallet After Only Eight Years | Tech News Briefing Podcast | WSJ|2022-08-23  |tech   |3407.0|672.0   |135612.0|2022|4  |Apple Pay is so convenient, secure, and easy to use. I used it while at the Korean and Japanese airports, no need for physical credit cards.                                                                                                                                                                                                                                                                                                                               |34.0 |2.0      |\n",
            "+-----------+---+--------------------------------------------------------------------------------------------------+------------+-------+------+--------+--------+----+---+---------------------------------------------------------------------------------------------------------------------------------------------------------------------------------------------------------------------------------------------------------------------------------------------------------------------------------------------------------------------------------------------------------------------------------------------------------------------------+-----+---------+\n",
            "only showing top 5 rows\n",
            "\n"
          ]
        }
      ]
    },
    {
      "cell_type": "code",
      "source": [
        "# Leitura do arquivo USvideos.csv com cabeçalho e esquema inferido\n",
        "df_us_videos = spark.read.csv(\"drive/MyDrive/Colab Notebooks/projeto/USvideos.csv\", header=True, inferSchema=True)\n",
        "\n",
        "# Exibir as primeiras 5 linhas para verificar\n",
        "df_us_videos.show(5)\n",
        "\n",
        "# Verificar o esquema inferido\n",
        "df_us_videos.printSchema()"
      ],
      "metadata": {
        "colab": {
          "base_uri": "https://localhost:8080/"
        },
        "id": "2UMk34n6bndB",
        "outputId": "842d75c4-98fb-44c6-eca1-e4da30150227"
      },
      "execution_count": 32,
      "outputs": [
        {
          "output_type": "stream",
          "name": "stdout",
          "text": [
            "+-----------+-------------+--------------------+--------------------+-----------+--------------------+--------------------+-------+------+--------+-------------+--------------------+-----------------+----------------+----------------------+--------------------+\n",
            "|   video_id|trending_date|               title|       channel_title|category_id|        publish_time|                tags|  views| likes|dislikes|comment_count|      thumbnail_link|comments_disabled|ratings_disabled|video_error_or_removed|         description|\n",
            "+-----------+-------------+--------------------+--------------------+-----------+--------------------+--------------------+-------+------+--------+-------------+--------------------+-----------------+----------------+----------------------+--------------------+\n",
            "|2kyS6SvSYSE|     17.14.11|WE WANT TO TALK A...|        CaseyNeistat|         22|2017-11-13T17:13:...|     SHANtell martin| 748374| 57527|    2966|        15954|https://i.ytimg.c...|            False|           False|                 False|SHANTELL'S CHANNE...|\n",
            "|1ZAPwfrtAFY|     17.14.11|The Trump Preside...|     LastWeekTonight|         24|2017-11-13T07:30:...|\"last week tonigh...|2418783| 97185|    6146|        12703|https://i.ytimg.c...|            False|           False|                 False|One year after th...|\n",
            "|5qpjK5DgCt4|     17.14.11|Racist Superman |...|        Rudy Mancuso|         23|2017-11-12T19:05:...|\"racist superman\"...|3191434|146033|    5339|         8181|https://i.ytimg.c...|            False|           False|                 False|WATCH MY PREVIOUS...|\n",
            "|puqaWrEC7tY|     17.14.11|Nickelback Lyrics...|Good Mythical Mor...|         24|2017-11-13T11:00:...|\"rhett and link\"|...| 343168| 10172|     666|         2146|https://i.ytimg.c...|            False|           False|                 False|Today we find out...|\n",
            "|d380meD0W0M|     17.14.11|I Dare You: GOING...|            nigahiga|         24|2017-11-12T18:01:...|\"ryan\"|\"higa\"|\"hi...|2095731|132235|    1989|        17518|https://i.ytimg.c...|            False|           False|                 False|I know it's been ...|\n",
            "+-----------+-------------+--------------------+--------------------+-----------+--------------------+--------------------+-------+------+--------+-------------+--------------------+-----------------+----------------+----------------------+--------------------+\n",
            "only showing top 5 rows\n",
            "\n",
            "root\n",
            " |-- video_id: string (nullable = true)\n",
            " |-- trending_date: string (nullable = true)\n",
            " |-- title: string (nullable = true)\n",
            " |-- channel_title: string (nullable = true)\n",
            " |-- category_id: string (nullable = true)\n",
            " |-- publish_time: string (nullable = true)\n",
            " |-- tags: string (nullable = true)\n",
            " |-- views: string (nullable = true)\n",
            " |-- likes: string (nullable = true)\n",
            " |-- dislikes: string (nullable = true)\n",
            " |-- comment_count: string (nullable = true)\n",
            " |-- thumbnail_link: string (nullable = true)\n",
            " |-- comments_disabled: string (nullable = true)\n",
            " |-- ratings_disabled: string (nullable = true)\n",
            " |-- video_error_or_removed: string (nullable = true)\n",
            " |-- description: string (nullable = true)\n",
            "\n"
          ]
        }
      ]
    },
    {
      "cell_type": "code",
      "source": [
        "# Realizar o join usando o campo 'Title'\n",
        "df_join_video_usvideos = df_video.join(df_us_videos, on=\"Title\", how=\"inner\")\n",
        "\n",
        "# Visualizar as 5 primeiras linhas de todas as colunas\n",
        "df_join_video_usvideos.show(5, truncate=False)\n",
        "\n",
        "print(\"df_video columns:\", df_video.columns)\n",
        "print(\"df_us_videos columns:\", df_us_videos.columns)"
      ],
      "metadata": {
        "colab": {
          "base_uri": "https://localhost:8080/"
        },
        "id": "NBVYQ8VKeYQa",
        "outputId": "ed905962-fa5b-4b9a-c4b1-d2cd9b862d54"
      },
      "execution_count": 33,
      "outputs": [
        {
          "output_type": "stream",
          "name": "stdout",
          "text": [
            "+---------------------------------------+---+-----------+------------+-------+--------+--------+------------+----+-----------+-------------+-------------+-----------+------------------------+--------------------------------------------------------------------------------------------------------------------------------------------------------------------------------------------------------------------------------------------------------------------------------------------------------------------------------------------------------------------------------------------------------------------------------------------------------------------------------------------------------+--------+------+--------+-------------+----------------------------------------------+-----------------+----------------+----------------------+----------------------------------------------------------------------------------------------------------------------------------------------------------------------------------------------------------------------------------------------------------------------------------------------------------------------------------------------------------------------------------------------------------------------------------------------------------------------------------------------------------------------------------------------------------------------------------------------------------------------------------------------------------------------------------------------------------------------------------------------------------------------------------------------------------------------------------------------------------------------------------------------------------------------------------------------------------------------------------------------------------------------------------------------------------------------------------------------------------------------------------------------------------------------------------------------------------------------------------------------------------------------------------------------------------------------------------------------------------------------------------------------------------------------------------------------------------------------------------------------------------------------------------------------------------------------------------------------------------------------------------------------------------------------------------------------------------------------------------------------------------------------------------------------------------------------------------------------------------------------------------------------------------------------------------------------------------------------------------------------------------------------------------------------------------------------------------------------------------------------------------------------------------------------------------------------------------------------------------------------------------------------------------------------------------------------------------------------------------------------------------------------------------------------------------------------------------------+\n",
            "|Title                                  |_c0|Video ID   |Published At|Keyword|Likes   |Comments|Views       |Year|video_id   |trending_date|channel_title|category_id|publish_time            |tags                                                                                                                                                                                                                                                                                                                                                                                                                                                                                                    |views   |likes |dislikes|comment_count|thumbnail_link                                |comments_disabled|ratings_disabled|video_error_or_removed|description                                                                                                                                                                                                                                                                                                                                                                                                                                                                                                                                                                                                                                                                                                                                                                                                                                                                                                                                                                                                                                                                                                                                                                                                                                                                                                                                                                                                                                                                                                                                                                                                                                                                                                                                                                                                                                                                                                                                                                                                                                                                                                                                                                                                                                                                                                                                                                                                                                                     |\n",
            "+---------------------------------------+---+-----------+------------+-------+--------+--------+------------+----+-----------+-------------+-------------+-----------+------------------------+--------------------------------------------------------------------------------------------------------------------------------------------------------------------------------------------------------------------------------------------------------------------------------------------------------------------------------------------------------------------------------------------------------------------------------------------------------------------------------------------------------+--------+------+--------+-------------+----------------------------------------------+-----------------+----------------+----------------------+----------------------------------------------------------------------------------------------------------------------------------------------------------------------------------------------------------------------------------------------------------------------------------------------------------------------------------------------------------------------------------------------------------------------------------------------------------------------------------------------------------------------------------------------------------------------------------------------------------------------------------------------------------------------------------------------------------------------------------------------------------------------------------------------------------------------------------------------------------------------------------------------------------------------------------------------------------------------------------------------------------------------------------------------------------------------------------------------------------------------------------------------------------------------------------------------------------------------------------------------------------------------------------------------------------------------------------------------------------------------------------------------------------------------------------------------------------------------------------------------------------------------------------------------------------------------------------------------------------------------------------------------------------------------------------------------------------------------------------------------------------------------------------------------------------------------------------------------------------------------------------------------------------------------------------------------------------------------------------------------------------------------------------------------------------------------------------------------------------------------------------------------------------------------------------------------------------------------------------------------------------------------------------------------------------------------------------------------------------------------------------------------------------------------------------------------------------------+\n",
            "|All Sports Golf Battle 2 | Dude Perfect|157|-RmUADCWI4A|2017-12-04  |sports |867074.0|43024.0 |1.06014469E8|2017|-RmUADCWI4A|17.06.12     |Dude Perfect |17         |2017-12-04T22:57:07.000Z|\"dude perfect\"|\"dude perfect stereotypes\"|\"dude perfect water bottle flip\"|\"bottle flip\"|\"water bottle flip\"|\"dude perfect bottle flip\"|\"dude perfect basketball\"|\"dp\"|\"dude perfect world record\"|\"edition\"|\"nerf\"|\"trick shots\"|\"trick shot\"|\"family\"|\"ping pong\"|\"bowling\"|\"clean\"|\"family friendly\"|\"bubble wrap\"|\"soccer\"|\"football\"|\"spinner\"|\"spinners\"|\"fidget spinners\"|\"dude\"|\"golf\"|\"all\"|\"sports\"|\"course\"|\"tennis\"|\"baseball\"|\"team coby\"|\"panda\"|\"pool\"|\"putting\"|\"all sports golf battle\"|8643326 |299731|5168    |23303        |https://i.ytimg.com/vi/-RmUADCWI4A/default.jpg|False            |False           |False                 |Golf + every other sport = awesome!\\n► Click HERE to subscribe to Dude Perfect! http://bit.ly/SubDudePerfect\\n\\n► Click HERE to watch our most recent videos! http://bit.ly/NewestDudePerfectVideos\\nhttp://bit.ly/NewestDPVideos\\n\\n► SHOP our NEW Merchandise! - http://bit.ly/DPStore\\n► Click HERE to join the exclusive Dude Perfect T-Shirt Club! http://bit.ly/DPTShirtClub\\n\\nMusic: No Limits by Zayde Wolf\\n► Click HERE to download: http://smarturl.it/ZWNoLimits\\n\\nMore from Zayde Wolf\\n► http://zaydewolf.com\\n► http://youtube.com/zaydewolf\\n► http://instagram.com/zaydewolf\\n► http://facebook.com/zaydewolf\\n► http://twitter.com/zaydewolf\\n\\nPlay our NEW iPhone game!\\n► PLAY Endless Ducker on iPhone -- http://smarturl.it/EndlessDucker\\n► PLAY Endless Ducker on Android -- http://smarturl.it/EndlessDucker\\n\\n► VISIT our NEW STORE - http://bit.ly/DPStore\\n► JOIN our NEWSLETTER - http://bit.ly/DPNewsletterEndCard\\n► WATCH our STEREOTYPES - http://bit.ly/StereotypesPlaylist\\n\\nIn between videos we hang out with you guys on Instagram, Snapchat, Twitter, and Facebook so pick your favorite one and hang with us there too!\\n\\nhttp://Instagram.com/DudePerfect\\nhttp://bit.ly/DudePerfectSnapchat\\nhttp://Twitter.com/DudePerfect\\nhttp://Facebook.com/DudePerfect\\n\\nDo you have a GO BIG mindset? \\nSee for yourself in our book Go Big. \\n►http://amzn.to/OYdZ2s\\n\\nA special thanks to those of you who play our iPhone Games and read our book. You guys are amazing and all the great things you tell us about the game and the book make those projects so worthwhile for us! \\n\\nDude Perfect GAME - http://smarturl.it/DPGameiPhone\\nDude Perfect BOOK - Go Big - http://amzn.to/OYdZ2s\\n\\nClick here if you want to learn more about Dude Perfect:\\nhttp://www.dudeperfect.com/blog-2/\\n\\nBonus points if you're still reading this! \\nComment: Splash bros for life!\\n\\nAs always...Go Big and God Bless!\\n- Your friends at Dude Perfect\\n\\nBusiness or Media, please contact us at: \\nDude@DudePerfect.com\\n\\n------------\\n\\n5 Best Friends and a Panda.\\nIf you like Sports + Comedy, come join the Dude Perfect team!\\n\\nBest known for trick shots, stereotypes, battles, bottle flips, ping pong shots and all around competitive fun, Dude Perfect prides ourselves in making the absolute best family-friendly entertainment possible! Welcome to the crew! \\n\\nPound it. Noggin. \\n- Dude Perfect|\n",
            "|All Sports Golf Battle 2 | Dude Perfect|157|-RmUADCWI4A|2017-12-04  |sports |867074.0|43024.0 |1.06014469E8|2017|-RmUADCWI4A|17.07.12     |Dude Perfect |17         |2017-12-04T22:57:07.000Z|\"dude perfect\"|\"dude perfect stereotypes\"|\"dude perfect water bottle flip\"|\"bottle flip\"|\"water bottle flip\"|\"dude perfect bottle flip\"|\"dude perfect basketball\"|\"dp\"|\"dude perfect world record\"|\"edition\"|\"nerf\"|\"trick shots\"|\"trick shot\"|\"family\"|\"ping pong\"|\"bowling\"|\"clean\"|\"family friendly\"|\"bubble wrap\"|\"soccer\"|\"football\"|\"spinner\"|\"spinners\"|\"fidget spinners\"|\"dude\"|\"golf\"|\"all\"|\"sports\"|\"course\"|\"tennis\"|\"baseball\"|\"team coby\"|\"panda\"|\"pool\"|\"putting\"|\"all sports golf battle\"|9828746 |316976|5797    |23221        |https://i.ytimg.com/vi/-RmUADCWI4A/default.jpg|False            |False           |False                 |Golf + every other sport = awesome!\\n► Click HERE to subscribe to Dude Perfect! http://bit.ly/SubDudePerfect\\n\\n► Click HERE to watch our most recent videos! http://bit.ly/NewestDudePerfectVideos\\nhttp://bit.ly/NewestDPVideos\\n\\n► SHOP our NEW Merchandise! - http://bit.ly/DPStore\\n► Click HERE to join the exclusive Dude Perfect T-Shirt Club! http://bit.ly/DPTShirtClub\\n\\nMusic: No Limits by Zayde Wolf\\n► Click HERE to download: http://smarturl.it/ZWNoLimits\\n\\nMore from Zayde Wolf\\n► http://zaydewolf.com\\n► http://youtube.com/zaydewolf\\n► http://instagram.com/zaydewolf\\n► http://facebook.com/zaydewolf\\n► http://twitter.com/zaydewolf\\n\\nPlay our NEW iPhone game!\\n► PLAY Endless Ducker on iPhone -- http://smarturl.it/EndlessDucker\\n► PLAY Endless Ducker on Android -- http://smarturl.it/EndlessDucker\\n\\n► VISIT our NEW STORE - http://bit.ly/DPStore\\n► JOIN our NEWSLETTER - http://bit.ly/DPNewsletterEndCard\\n► WATCH our STEREOTYPES - http://bit.ly/StereotypesPlaylist\\n\\nIn between videos we hang out with you guys on Instagram, Snapchat, Twitter, and Facebook so pick your favorite one and hang with us there too!\\n\\nhttp://Instagram.com/DudePerfect\\nhttp://bit.ly/DudePerfectSnapchat\\nhttp://Twitter.com/DudePerfect\\nhttp://Facebook.com/DudePerfect\\n\\nDo you have a GO BIG mindset? \\nSee for yourself in our book Go Big. \\n►http://amzn.to/OYdZ2s\\n\\nA special thanks to those of you who play our iPhone Games and read our book. You guys are amazing and all the great things you tell us about the game and the book make those projects so worthwhile for us! \\n\\nDude Perfect GAME - http://smarturl.it/DPGameiPhone\\nDude Perfect BOOK - Go Big - http://amzn.to/OYdZ2s\\n\\nClick here if you want to learn more about Dude Perfect:\\nhttp://www.dudeperfect.com/blog-2/\\n\\nBonus points if you're still reading this! \\nComment: Splash bros for life!\\n\\nAs always...Go Big and God Bless!\\n- Your friends at Dude Perfect\\n\\nBusiness or Media, please contact us at: \\nDude@DudePerfect.com\\n\\n------------\\n\\n5 Best Friends and a Panda.\\nIf you like Sports + Comedy, come join the Dude Perfect team!\\n\\nBest known for trick shots, stereotypes, battles, bottle flips, ping pong shots and all around competitive fun, Dude Perfect prides ourselves in making the absolute best family-friendly entertainment possible! Welcome to the crew! \\n\\nPound it. Noggin. \\n- Dude Perfect|\n",
            "|All Sports Golf Battle 2 | Dude Perfect|157|-RmUADCWI4A|2017-12-04  |sports |867074.0|43024.0 |1.06014469E8|2017|-RmUADCWI4A|17.08.12     |Dude Perfect |17         |2017-12-04T22:57:07.000Z|\"dude perfect\"|\"dude perfect stereotypes\"|\"dude perfect water bottle flip\"|\"bottle flip\"|\"water bottle flip\"|\"dude perfect bottle flip\"|\"dude perfect basketball\"|\"dp\"|\"dude perfect world record\"|\"edition\"|\"nerf\"|\"trick shots\"|\"trick shot\"|\"family\"|\"ping pong\"|\"bowling\"|\"clean\"|\"family friendly\"|\"bubble wrap\"|\"soccer\"|\"football\"|\"spinner\"|\"spinners\"|\"fidget spinners\"|\"dude\"|\"golf\"|\"all\"|\"sports\"|\"course\"|\"tennis\"|\"baseball\"|\"team coby\"|\"panda\"|\"pool\"|\"putting\"|\"all sports golf battle\"|10558591|325479|6104    |24107        |https://i.ytimg.com/vi/-RmUADCWI4A/default.jpg|False            |False           |False                 |Golf + every other sport = awesome!\\n► Click HERE to subscribe to Dude Perfect! http://bit.ly/SubDudePerfect\\n\\n► Click HERE to watch our most recent videos! http://bit.ly/NewestDudePerfectVideos\\nhttp://bit.ly/NewestDPVideos\\n\\n► SHOP our NEW Merchandise! - http://bit.ly/DPStore\\n► Click HERE to join the exclusive Dude Perfect T-Shirt Club! http://bit.ly/DPTShirtClub\\n\\nMusic: No Limits by Zayde Wolf\\n► Click HERE to download: http://smarturl.it/ZWNoLimits\\n\\nMore from Zayde Wolf\\n► http://zaydewolf.com\\n► http://youtube.com/zaydewolf\\n► http://instagram.com/zaydewolf\\n► http://facebook.com/zaydewolf\\n► http://twitter.com/zaydewolf\\n\\nPlay our NEW iPhone game!\\n► PLAY Endless Ducker on iPhone -- http://smarturl.it/EndlessDucker\\n► PLAY Endless Ducker on Android -- http://smarturl.it/EndlessDucker\\n\\n► VISIT our NEW STORE - http://bit.ly/DPStore\\n► JOIN our NEWSLETTER - http://bit.ly/DPNewsletterEndCard\\n► WATCH our STEREOTYPES - http://bit.ly/StereotypesPlaylist\\n\\nIn between videos we hang out with you guys on Instagram, Snapchat, Twitter, and Facebook so pick your favorite one and hang with us there too!\\n\\nhttp://Instagram.com/DudePerfect\\nhttp://bit.ly/DudePerfectSnapchat\\nhttp://Twitter.com/DudePerfect\\nhttp://Facebook.com/DudePerfect\\n\\nDo you have a GO BIG mindset? \\nSee for yourself in our book Go Big. \\n►http://amzn.to/OYdZ2s\\n\\nA special thanks to those of you who play our iPhone Games and read our book. You guys are amazing and all the great things you tell us about the game and the book make those projects so worthwhile for us! \\n\\nDude Perfect GAME - http://smarturl.it/DPGameiPhone\\nDude Perfect BOOK - Go Big - http://amzn.to/OYdZ2s\\n\\nClick here if you want to learn more about Dude Perfect:\\nhttp://www.dudeperfect.com/blog-2/\\n\\nBonus points if you're still reading this! \\nComment: Splash bros for life!\\n\\nAs always...Go Big and God Bless!\\n- Your friends at Dude Perfect\\n\\nBusiness or Media, please contact us at: \\nDude@DudePerfect.com\\n\\n------------\\n\\n5 Best Friends and a Panda.\\nIf you like Sports + Comedy, come join the Dude Perfect team!\\n\\nBest known for trick shots, stereotypes, battles, bottle flips, ping pong shots and all around competitive fun, Dude Perfect prides ourselves in making the absolute best family-friendly entertainment possible! Welcome to the crew! \\n\\nPound it. Noggin. \\n- Dude Perfect|\n",
            "|All Sports Golf Battle 2 | Dude Perfect|157|-RmUADCWI4A|2017-12-04  |sports |867074.0|43024.0 |1.06014469E8|2017|-RmUADCWI4A|17.09.12     |Dude Perfect |17         |2017-12-04T22:57:07.000Z|\"dude perfect\"|\"dude perfect stereotypes\"|\"dude perfect water bottle flip\"|\"bottle flip\"|\"water bottle flip\"|\"dude perfect bottle flip\"|\"dude perfect basketball\"|\"dp\"|\"dude perfect world record\"|\"edition\"|\"nerf\"|\"trick shots\"|\"trick shot\"|\"family\"|\"ping pong\"|\"bowling\"|\"clean\"|\"family friendly\"|\"bubble wrap\"|\"soccer\"|\"football\"|\"spinner\"|\"spinners\"|\"fidget spinners\"|\"dude\"|\"golf\"|\"all\"|\"sports\"|\"course\"|\"tennis\"|\"baseball\"|\"team coby\"|\"panda\"|\"pool\"|\"putting\"|\"all sports golf battle\"|11319116|334495|6430    |25199        |https://i.ytimg.com/vi/-RmUADCWI4A/default.jpg|False            |False           |False                 |Golf + every other sport = awesome!\\n► Click HERE to subscribe to Dude Perfect! http://bit.ly/SubDudePerfect\\n\\n► Click HERE to watch our most recent videos! http://bit.ly/NewestDudePerfectVideos\\nhttp://bit.ly/NewestDPVideos\\n\\n► SHOP our NEW Merchandise! - http://bit.ly/DPStore\\n► Click HERE to join the exclusive Dude Perfect T-Shirt Club! http://bit.ly/DPTShirtClub\\n\\nMusic: No Limits by Zayde Wolf\\n► Click HERE to download: http://smarturl.it/ZWNoLimits\\n\\nMore from Zayde Wolf\\n► http://zaydewolf.com\\n► http://youtube.com/zaydewolf\\n► http://instagram.com/zaydewolf\\n► http://facebook.com/zaydewolf\\n► http://twitter.com/zaydewolf\\n\\nPlay our NEW iPhone game!\\n► PLAY Endless Ducker on iPhone -- http://smarturl.it/EndlessDucker\\n► PLAY Endless Ducker on Android -- http://smarturl.it/EndlessDucker\\n\\n► VISIT our NEW STORE - http://bit.ly/DPStore\\n► JOIN our NEWSLETTER - http://bit.ly/DPNewsletterEndCard\\n► WATCH our STEREOTYPES - http://bit.ly/StereotypesPlaylist\\n\\nIn between videos we hang out with you guys on Instagram, Snapchat, Twitter, and Facebook so pick your favorite one and hang with us there too!\\n\\nhttp://Instagram.com/DudePerfect\\nhttp://bit.ly/DudePerfectSnapchat\\nhttp://Twitter.com/DudePerfect\\nhttp://Facebook.com/DudePerfect\\n\\nDo you have a GO BIG mindset? \\nSee for yourself in our book Go Big. \\n►http://amzn.to/OYdZ2s\\n\\nA special thanks to those of you who play our iPhone Games and read our book. You guys are amazing and all the great things you tell us about the game and the book make those projects so worthwhile for us! \\n\\nDude Perfect GAME - http://smarturl.it/DPGameiPhone\\nDude Perfect BOOK - Go Big - http://amzn.to/OYdZ2s\\n\\nClick here if you want to learn more about Dude Perfect:\\nhttp://www.dudeperfect.com/blog-2/\\n\\nBonus points if you're still reading this! \\nComment: Splash bros for life!\\n\\nAs always...Go Big and God Bless!\\n- Your friends at Dude Perfect\\n\\nBusiness or Media, please contact us at: \\nDude@DudePerfect.com\\n\\n------------\\n\\n5 Best Friends and a Panda.\\nIf you like Sports + Comedy, come join the Dude Perfect team!\\n\\nBest known for trick shots, stereotypes, battles, bottle flips, ping pong shots and all around competitive fun, Dude Perfect prides ourselves in making the absolute best family-friendly entertainment possible! Welcome to the crew! \\n\\nPound it. Noggin. \\n- Dude Perfect|\n",
            "|All Sports Golf Battle 2 | Dude Perfect|157|-RmUADCWI4A|2017-12-04  |sports |867074.0|43024.0 |1.06014469E8|2017|-RmUADCWI4A|17.10.12     |Dude Perfect |17         |2017-12-04T22:57:07.000Z|\"dude perfect\"|\"dude perfect stereotypes\"|\"dude perfect water bottle flip\"|\"bottle flip\"|\"water bottle flip\"|\"dude perfect bottle flip\"|\"dude perfect basketball\"|\"dp\"|\"dude perfect world record\"|\"edition\"|\"nerf\"|\"trick shots\"|\"trick shot\"|\"family\"|\"ping pong\"|\"bowling\"|\"clean\"|\"family friendly\"|\"bubble wrap\"|\"soccer\"|\"football\"|\"spinner\"|\"spinners\"|\"fidget spinners\"|\"dude\"|\"golf\"|\"all\"|\"sports\"|\"course\"|\"tennis\"|\"baseball\"|\"team coby\"|\"panda\"|\"pool\"|\"putting\"|\"all sports golf battle\"|12305961|342825|6898    |25905        |https://i.ytimg.com/vi/-RmUADCWI4A/default.jpg|False            |False           |False                 |Golf + every other sport = awesome!\\n► Click HERE to subscribe to Dude Perfect! http://bit.ly/SubDudePerfect\\n\\n► Click HERE to watch our most recent videos! http://bit.ly/NewestDudePerfectVideos\\nhttp://bit.ly/NewestDPVideos\\n\\n► SHOP our NEW Merchandise! - http://bit.ly/DPStore\\n► Click HERE to join the exclusive Dude Perfect T-Shirt Club! http://bit.ly/DPTShirtClub\\n\\nMusic: No Limits by Zayde Wolf\\n► Click HERE to download: http://smarturl.it/ZWNoLimits\\n\\nMore from Zayde Wolf\\n► http://zaydewolf.com\\n► http://youtube.com/zaydewolf\\n► http://instagram.com/zaydewolf\\n► http://facebook.com/zaydewolf\\n► http://twitter.com/zaydewolf\\n\\nPlay our NEW iPhone game!\\n► PLAY Endless Ducker on iPhone -- http://smarturl.it/EndlessDucker\\n► PLAY Endless Ducker on Android -- http://smarturl.it/EndlessDucker\\n\\n► VISIT our NEW STORE - http://bit.ly/DPStore\\n► JOIN our NEWSLETTER - http://bit.ly/DPNewsletterEndCard\\n► WATCH our STEREOTYPES - http://bit.ly/StereotypesPlaylist\\n\\nIn between videos we hang out with you guys on Instagram, Snapchat, Twitter, and Facebook so pick your favorite one and hang with us there too!\\n\\nhttp://Instagram.com/DudePerfect\\nhttp://bit.ly/DudePerfectSnapchat\\nhttp://Twitter.com/DudePerfect\\nhttp://Facebook.com/DudePerfect\\n\\nDo you have a GO BIG mindset? \\nSee for yourself in our book Go Big. \\n►http://amzn.to/OYdZ2s\\n\\nA special thanks to those of you who play our iPhone Games and read our book. You guys are amazing and all the great things you tell us about the game and the book make those projects so worthwhile for us! \\n\\nDude Perfect GAME - http://smarturl.it/DPGameiPhone\\nDude Perfect BOOK - Go Big - http://amzn.to/OYdZ2s\\n\\nClick here if you want to learn more about Dude Perfect:\\nhttp://www.dudeperfect.com/blog-2/\\n\\nBonus points if you're still reading this! \\nComment: Splash bros for life!\\n\\nAs always...Go Big and God Bless!\\n- Your friends at Dude Perfect\\n\\nBusiness or Media, please contact us at: \\nDude@DudePerfect.com\\n\\n------------\\n\\n5 Best Friends and a Panda.\\nIf you like Sports + Comedy, come join the Dude Perfect team!\\n\\nBest known for trick shots, stereotypes, battles, bottle flips, ping pong shots and all around competitive fun, Dude Perfect prides ourselves in making the absolute best family-friendly entertainment possible! Welcome to the crew! \\n\\nPound it. Noggin. \\n- Dude Perfect|\n",
            "+---------------------------------------+---+-----------+------------+-------+--------+--------+------------+----+-----------+-------------+-------------+-----------+------------------------+--------------------------------------------------------------------------------------------------------------------------------------------------------------------------------------------------------------------------------------------------------------------------------------------------------------------------------------------------------------------------------------------------------------------------------------------------------------------------------------------------------+--------+------+--------+-------------+----------------------------------------------+-----------------+----------------+----------------------+----------------------------------------------------------------------------------------------------------------------------------------------------------------------------------------------------------------------------------------------------------------------------------------------------------------------------------------------------------------------------------------------------------------------------------------------------------------------------------------------------------------------------------------------------------------------------------------------------------------------------------------------------------------------------------------------------------------------------------------------------------------------------------------------------------------------------------------------------------------------------------------------------------------------------------------------------------------------------------------------------------------------------------------------------------------------------------------------------------------------------------------------------------------------------------------------------------------------------------------------------------------------------------------------------------------------------------------------------------------------------------------------------------------------------------------------------------------------------------------------------------------------------------------------------------------------------------------------------------------------------------------------------------------------------------------------------------------------------------------------------------------------------------------------------------------------------------------------------------------------------------------------------------------------------------------------------------------------------------------------------------------------------------------------------------------------------------------------------------------------------------------------------------------------------------------------------------------------------------------------------------------------------------------------------------------------------------------------------------------------------------------------------------------------------------------------------------------+\n",
            "only showing top 5 rows\n",
            "\n",
            "df_video columns: ['_c0', 'Title', 'Video ID', 'Published At', 'Keyword', 'Likes', 'Comments', 'Views', 'Year']\n",
            "df_us_videos columns: ['video_id', 'trending_date', 'title', 'channel_title', 'category_id', 'publish_time', 'tags', 'views', 'likes', 'dislikes', 'comment_count', 'thumbnail_link', 'comments_disabled', 'ratings_disabled', 'video_error_or_removed', 'description']\n"
          ]
        }
      ]
    },
    {
      "cell_type": "code",
      "source": [
        "# Contar nulos em todas as colunas do df_video\n",
        "nulos_df_video = df_video.select([\n",
        "    count(when(col(c).isNull(), c)).alias(c) for c in df_video.columns\n",
        "])\n",
        "\n",
        "# Mostrar o resultado\n",
        "nulos_df_video.show()"
      ],
      "metadata": {
        "colab": {
          "base_uri": "https://localhost:8080/"
        },
        "id": "xIhmz5zJemy6",
        "outputId": "be91fde9-f30b-4437-f51a-93149cf38fe5"
      },
      "execution_count": 34,
      "outputs": [
        {
          "output_type": "stream",
          "name": "stdout",
          "text": [
            "+---+-----+--------+------------+-------+-----+--------+-----+----+\n",
            "|_c0|Title|Video ID|Published At|Keyword|Likes|Comments|Views|Year|\n",
            "+---+-----+--------+------------+-------+-----+--------+-----+----+\n",
            "|  0|    0|       0|           0|      0|    2|       2|    2|   0|\n",
            "+---+-----+--------+------------+-------+-----+--------+-----+----+\n",
            "\n"
          ]
        }
      ]
    },
    {
      "cell_type": "code",
      "source": [
        "# Removendo coluna\n",
        "df_video = df_video.drop(\"_c0\")\n",
        "\n",
        "# Salvando DF parquet\n",
        "df_video.write.mode(\"overwrite\").option(\"header\", True).parquet(\"videos-tratados-parquet\")"
      ],
      "metadata": {
        "id": "w9bn5T2Uevp6"
      },
      "execution_count": 35,
      "outputs": []
    },
    {
      "cell_type": "code",
      "source": [
        "# Remover a coluna '_c0' (se existir)\n",
        "if \"_c0\" in df_join_video_comments.columns:\n",
        "    df_join_video_comments = df_join_video_comments.drop(\"_c0\")\n",
        "\n",
        "# Salvar em formato Parquet com cabeçalho\n",
        "df_join_video_comments.write.mode(\"overwrite\") \\\n",
        "    .option(\"header\", True) \\\n",
        "    .parquet(\"drive/MyDrive/Colab Notebooks/projeto/videos-comments-tratados-parquet\")"
      ],
      "metadata": {
        "colab": {
          "base_uri": "https://localhost:8080/",
          "height": 321
        },
        "id": "pe7EqWpye_3k",
        "outputId": "e840631e-4bf9-4122-9f75-fbbc77c35b08"
      },
      "execution_count": 36,
      "outputs": [
        {
          "output_type": "error",
          "ename": "AnalysisException",
          "evalue": "[COLUMN_ALREADY_EXISTS] The column `likes` already exists. Consider to choose another name or rename the existing column.",
          "traceback": [
            "\u001b[0;31m---------------------------------------------------------------------------\u001b[0m",
            "\u001b[0;31mAnalysisException\u001b[0m                         Traceback (most recent call last)",
            "\u001b[0;32m/tmp/ipython-input-36-1884079643.py\u001b[0m in \u001b[0;36m<cell line: 0>\u001b[0;34m()\u001b[0m\n\u001b[1;32m      6\u001b[0m \u001b[0mdf_join_video_comments\u001b[0m\u001b[0;34m.\u001b[0m\u001b[0mwrite\u001b[0m\u001b[0;34m.\u001b[0m\u001b[0mmode\u001b[0m\u001b[0;34m(\u001b[0m\u001b[0;34m\"overwrite\"\u001b[0m\u001b[0;34m)\u001b[0m\u001b[0;31m \u001b[0m\u001b[0;31m\\\u001b[0m\u001b[0;34m\u001b[0m\u001b[0;34m\u001b[0m\u001b[0m\n\u001b[1;32m      7\u001b[0m     \u001b[0;34m.\u001b[0m\u001b[0moption\u001b[0m\u001b[0;34m(\u001b[0m\u001b[0;34m\"header\"\u001b[0m\u001b[0;34m,\u001b[0m \u001b[0;32mTrue\u001b[0m\u001b[0;34m)\u001b[0m\u001b[0;31m \u001b[0m\u001b[0;31m\\\u001b[0m\u001b[0;34m\u001b[0m\u001b[0;34m\u001b[0m\u001b[0m\n\u001b[0;32m----> 8\u001b[0;31m     \u001b[0;34m.\u001b[0m\u001b[0mparquet\u001b[0m\u001b[0;34m(\u001b[0m\u001b[0;34m\"drive/MyDrive/Colab Notebooks/projeto/videos-comments-tratados-parquet\"\u001b[0m\u001b[0;34m)\u001b[0m\u001b[0;34m\u001b[0m\u001b[0;34m\u001b[0m\u001b[0m\n\u001b[0m",
            "\u001b[0;32m/usr/local/lib/python3.11/dist-packages/pyspark/sql/readwriter.py\u001b[0m in \u001b[0;36mparquet\u001b[0;34m(self, path, mode, partitionBy, compression)\u001b[0m\n\u001b[1;32m   1719\u001b[0m             \u001b[0mself\u001b[0m\u001b[0;34m.\u001b[0m\u001b[0mpartitionBy\u001b[0m\u001b[0;34m(\u001b[0m\u001b[0mpartitionBy\u001b[0m\u001b[0;34m)\u001b[0m\u001b[0;34m\u001b[0m\u001b[0;34m\u001b[0m\u001b[0m\n\u001b[1;32m   1720\u001b[0m         \u001b[0mself\u001b[0m\u001b[0;34m.\u001b[0m\u001b[0m_set_opts\u001b[0m\u001b[0;34m(\u001b[0m\u001b[0mcompression\u001b[0m\u001b[0;34m=\u001b[0m\u001b[0mcompression\u001b[0m\u001b[0;34m)\u001b[0m\u001b[0;34m\u001b[0m\u001b[0;34m\u001b[0m\u001b[0m\n\u001b[0;32m-> 1721\u001b[0;31m         \u001b[0mself\u001b[0m\u001b[0;34m.\u001b[0m\u001b[0m_jwrite\u001b[0m\u001b[0;34m.\u001b[0m\u001b[0mparquet\u001b[0m\u001b[0;34m(\u001b[0m\u001b[0mpath\u001b[0m\u001b[0;34m)\u001b[0m\u001b[0;34m\u001b[0m\u001b[0;34m\u001b[0m\u001b[0m\n\u001b[0m\u001b[1;32m   1722\u001b[0m \u001b[0;34m\u001b[0m\u001b[0m\n\u001b[1;32m   1723\u001b[0m     def text(\n",
            "\u001b[0;32m/usr/local/lib/python3.11/dist-packages/py4j/java_gateway.py\u001b[0m in \u001b[0;36m__call__\u001b[0;34m(self, *args)\u001b[0m\n\u001b[1;32m   1320\u001b[0m \u001b[0;34m\u001b[0m\u001b[0m\n\u001b[1;32m   1321\u001b[0m         \u001b[0manswer\u001b[0m \u001b[0;34m=\u001b[0m \u001b[0mself\u001b[0m\u001b[0;34m.\u001b[0m\u001b[0mgateway_client\u001b[0m\u001b[0;34m.\u001b[0m\u001b[0msend_command\u001b[0m\u001b[0;34m(\u001b[0m\u001b[0mcommand\u001b[0m\u001b[0;34m)\u001b[0m\u001b[0;34m\u001b[0m\u001b[0;34m\u001b[0m\u001b[0m\n\u001b[0;32m-> 1322\u001b[0;31m         return_value = get_return_value(\n\u001b[0m\u001b[1;32m   1323\u001b[0m             answer, self.gateway_client, self.target_id, self.name)\n\u001b[1;32m   1324\u001b[0m \u001b[0;34m\u001b[0m\u001b[0m\n",
            "\u001b[0;32m/usr/local/lib/python3.11/dist-packages/pyspark/errors/exceptions/captured.py\u001b[0m in \u001b[0;36mdeco\u001b[0;34m(*a, **kw)\u001b[0m\n\u001b[1;32m    183\u001b[0m                 \u001b[0;31m# Hide where the exception came from that shows a non-Pythonic\u001b[0m\u001b[0;34m\u001b[0m\u001b[0;34m\u001b[0m\u001b[0m\n\u001b[1;32m    184\u001b[0m                 \u001b[0;31m# JVM exception message.\u001b[0m\u001b[0;34m\u001b[0m\u001b[0;34m\u001b[0m\u001b[0m\n\u001b[0;32m--> 185\u001b[0;31m                 \u001b[0;32mraise\u001b[0m \u001b[0mconverted\u001b[0m \u001b[0;32mfrom\u001b[0m \u001b[0;32mNone\u001b[0m\u001b[0;34m\u001b[0m\u001b[0;34m\u001b[0m\u001b[0m\n\u001b[0m\u001b[1;32m    186\u001b[0m             \u001b[0;32melse\u001b[0m\u001b[0;34m:\u001b[0m\u001b[0;34m\u001b[0m\u001b[0;34m\u001b[0m\u001b[0m\n\u001b[1;32m    187\u001b[0m                 \u001b[0;32mraise\u001b[0m\u001b[0;34m\u001b[0m\u001b[0;34m\u001b[0m\u001b[0m\n",
            "\u001b[0;31mAnalysisException\u001b[0m: [COLUMN_ALREADY_EXISTS] The column `likes` already exists. Consider to choose another name or rename the existing column."
          ]
        }
      ]
    }
  ]
}